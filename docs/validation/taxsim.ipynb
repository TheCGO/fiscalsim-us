{
 "cells": [
  {
   "cell_type": "markdown",
   "metadata": {},
   "source": [
    "# Validation against TAXSIM\n",
    "\n",
    "Validation tests are carried out on every new version update against TAXSIM35, developed by NBER. We primarily test that tax units in the Current Population Survey have tax liabilities close to PolicyEngine US ('close' defined as within $100)."
   ]
  },
  {
   "cell_type": "code",
   "execution_count": 1,
   "metadata": {
    "tags": [
     "hide-input"
    ]
   },
   "outputs": [
    {
     "data": {
      "text/html": [
       "<div>\n",
       "<style scoped>\n",
       "    .dataframe tbody tr th:only-of-type {\n",
       "        vertical-align: middle;\n",
       "    }\n",
       "\n",
       "    .dataframe tbody tr th {\n",
       "        vertical-align: top;\n",
       "    }\n",
       "\n",
       "    .dataframe thead th {\n",
       "        text-align: right;\n",
       "    }\n",
       "</style>\n",
       "<table border=\"1\" class=\"dataframe\">\n",
       "  <thead>\n",
       "    <tr style=\"text-align: right;\">\n",
       "      <th></th>\n",
       "      <th>Percent close</th>\n",
       "    </tr>\n",
       "    <tr>\n",
       "      <th>Region</th>\n",
       "      <th></th>\n",
       "    </tr>\n",
       "  </thead>\n",
       "  <tbody>\n",
       "    <tr>\n",
       "      <th>Federal</th>\n",
       "      <td>77.7%</td>\n",
       "    </tr>\n",
       "    <tr>\n",
       "      <th>MA</th>\n",
       "      <td>28.0%</td>\n",
       "    </tr>\n",
       "    <tr>\n",
       "      <th>MA</th>\n",
       "      <td>28.0%</td>\n",
       "    </tr>\n",
       "    <tr>\n",
       "      <th>NY</th>\n",
       "      <td>32.2%</td>\n",
       "    </tr>\n",
       "    <tr>\n",
       "      <th>WA</th>\n",
       "      <td>91.4%</td>\n",
       "    </tr>\n",
       "  </tbody>\n",
       "</table>\n",
       "</div>"
      ],
      "text/plain": [
       "        Percent close\n",
       "Region               \n",
       "Federal         77.7%\n",
       "MA              28.0%\n",
       "MA              28.0%\n",
       "NY              32.2%\n",
       "WA              91.4%"
      ]
     },
     "execution_count": 1,
     "metadata": {},
     "output_type": "execute_result"
    }
   ],
   "source": [
    "from policyengine_us import Microsimulation\n",
    "from policyengine_us.data.datasets import CPS\n",
    "from policyengine_us.tools.dev.taxsim.generate_taxsim_tests import TaxSim35\n",
    "import numpy as np\n",
    "import pandas as pd\n",
    "\n",
    "# Disable warnings\n",
    "import warnings\n",
    "\n",
    "warnings.filterwarnings(\"ignore\")\n",
    "\n",
    "STATES = [\"MA\", \"MA\", \"NY\", \"WA\"]\n",
    "DISTANCE = 100\n",
    "\n",
    "taxsim = TaxSim35()\n",
    "sim = Microsimulation()\n",
    "\n",
    "taxsim_df = taxsim.generate_from_microsimulation(\n",
    "    CPS, 2022, None, True, False\n",
    ").set_index(\"taxsim_taxsimid\")\n",
    "\n",
    "\n",
    "def get_federal_tax_against_taxsim_results():\n",
    "    tax = sim.calc(\"income_tax\")\n",
    "    tax.index = sim.calc(\"tax_unit_id\").values\n",
    "    comparison_df = pd.DataFrame(index=sim.calc(\"tax_unit_id\").values)\n",
    "    comparison_df[\"policyengine_us\"] = tax\n",
    "    comparison_df[\"taxsim\"] = taxsim_df.taxsim_fiitax\n",
    "    relative_distance = np.absolute(\n",
    "        comparison_df.policyengine_us - comparison_df.taxsim\n",
    "    )\n",
    "    return (relative_distance < DISTANCE).mean()\n",
    "\n",
    "\n",
    "def get_state_income_tax_against_taxsim_results(state: str):\n",
    "    in_state = sim.calc(\"tax_unit_state\").values == state\n",
    "    tax = sim.calc(\"state_income_tax\")\n",
    "    tax.index = sim.calc(\"tax_unit_id\").values\n",
    "    comparison_df = pd.DataFrame(\n",
    "        dict(\n",
    "            policyengine_us=tax,\n",
    "            taxsim=taxsim_df.taxsim_siitax,\n",
    "        ),\n",
    "        index=sim.calc(\"tax_unit_id\").values,\n",
    "    )\n",
    "    comparison_df = comparison_df[in_state]\n",
    "    relative_distance = np.absolute(\n",
    "        comparison_df.policyengine_us - comparison_df.taxsim\n",
    "    )\n",
    "    return (relative_distance < DISTANCE).mean()\n",
    "\n",
    "\n",
    "results_df = pd.DataFrame(\n",
    "    {\n",
    "        \"Region\": [\"Federal\"] + STATES,\n",
    "        \"Percent close\": [get_federal_tax_against_taxsim_results()]\n",
    "        + [\n",
    "            get_state_income_tax_against_taxsim_results(state)\n",
    "            for state in STATES\n",
    "        ],\n",
    "    }\n",
    ")\n",
    "results_df[\"Percent close\"] = results_df[\"Percent close\"].apply(\n",
    "    lambda x: f\"{x:.1%}\"\n",
    ")\n",
    "results_df.set_index(\"Region\")"
   ]
  }
 ],
 "metadata": {
  "kernelspec": {
   "display_name": "Python 3 (ipykernel)",
   "language": "python",
   "name": "python3"
  },
  "language_info": {
   "codemirror_mode": {
    "name": "ipython",
    "version": 3
   },
   "file_extension": ".py",
   "mimetype": "text/x-python",
   "name": "python",
   "nbconvert_exporter": "python",
   "pygments_lexer": "ipython3",
   "version": "3.9.12"
  },
  "vscode": {
   "interpreter": {
    "hash": "8dfc7b25af29ff50af05ad7ef5344155df419318e539ca710572e6dd4f9023a3"
   }
  }
 },
 "nbformat": 4,
 "nbformat_minor": 4
}
