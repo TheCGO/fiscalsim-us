{
 "cells": [
  {
   "cell_type": "markdown",
   "metadata": {
    "hide-input": true
   },
   "source": [
    "# Speed"
   ]
  },
  {
   "cell_type": "code",
   "execution_count": 2,
   "metadata": {},
   "outputs": [
    {
     "data": {
      "text/markdown": [
       "## The time to import `Microsimulation` from `policyengine_us` is 0.0 seconds. The time to initialise a `Microsimulation` object is 0.1 seconds, and the time to complete simulation of taxes and benefits is 8.6 seconds."
      ],
      "text/plain": [
       "<IPython.core.display.Markdown object>"
      ]
     },
     "execution_count": 2,
     "metadata": {},
     "output_type": "execute_result"
    }
   ],
   "source": [
    "from IPython.display import Markdown\n",
    "from time import time\n",
    "\n",
    "t1 = time()\n",
    "from policyengine_us import Microsimulation\n",
    "\n",
    "t2 = time()\n",
    "sim = Microsimulation()\n",
    "t3 = time()\n",
    "sim.calc(\"spm_unit_benefits\")\n",
    "sim.calc(\"spm_unit_taxes\")\n",
    "t4 = time()\n",
    "\n",
    "Markdown(\n",
    "    f\"The time to import `Microsimulation` from `policyengine_us` is {t2 - t1:.01f} seconds. The time to initialise a `Microsimulation` object is {t3 - t2:.01f} seconds, and the time to complete simulation of taxes and benefits is {t4 - t3:.01f} seconds.\"\n",
    ")"
   ]
  }
 ],
 "metadata": {
  "kernelspec": {
   "display_name": "Python 3.9.12 ('base')",
   "language": "python",
   "name": "python3"
  },
  "language_info": {
   "codemirror_mode": {
    "name": "ipython",
    "version": 3
   },
   "file_extension": ".py",
   "mimetype": "text/x-python",
   "name": "python",
   "nbconvert_exporter": "python",
   "pygments_lexer": "ipython3",
   "version": "3.9.12"
  },
  "vscode": {
   "interpreter": {
    "hash": "40d3a090f54c6569ab1632332b64b2c03c39dcf918b08424e98f38b5ae0af88f"
   }
  }
 },
 "nbformat": 4,
 "nbformat_minor": 4
}
