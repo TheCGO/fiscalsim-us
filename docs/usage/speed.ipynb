{
 "cells": [
  {
   "cell_type": "markdown",
   "metadata": {
    "hide-input": true
   },
   "source": [
    "# Speed"
   ]
  },
  {
   "cell_type": "code",
   "execution_count": 2,
   "metadata": {},
   "outputs": [
    {
     "data": {
      "text/markdown": [
       "## The time to import `Microsimulation` from `fiscalsim_us` is 0.0 seconds. The time to initialise a `Microsimulation` object is 0.1 seconds, and the time to complete simulation of taxes and benefits is 8.6 seconds."
      ],
      "text/plain": [
       "<IPython.core.display.Markdown object>"
      ]
     },
     "execution_count": 2,
     "metadata": {},
     "output_type": "execute_result"
    }
   ],
   "source": [
    "from IPython.display import Markdown\n",
    "from time import time\n",
    "\n",
    "t1 = time()\n",
    "from fiscalsim_us import Microsimulation\n",
    "\n",
    "t2 = time()\n",
    "sim = Microsimulation()\n",
    "t3 = time()\n",
    "sim.calc(\"spm_unit_benefits\")\n",
    "sim.calc(\"spm_unit_taxes\")\n",
    "t4 = time()\n",
    "\n",
    "Markdown(\n",
    "    f\"The time to import `Microsimulation` from `fiscalsim_us` is {t2 - t1:.01f} seconds. The time to initialise a `Microsimulation` object is {t3 - t2:.01f} seconds, and the time to complete simulation of taxes and benefits is {t4 - t3:.01f} seconds.\"\n",
    ")"
   ]
  }
 ],
 "metadata": {
  "kernelspec": {
   "display_name": "Python 3",
   "language": "python",
   "name": "python3"
  },
  "language_info": {
   "codemirror_mode": {
    "name": "ipython",
    "version": 3
   },
   "file_extension": ".py",
   "mimetype": "text/x-python",
   "name": "python",
   "nbconvert_exporter": "python",
   "pygments_lexer": "ipython3",
   "version": "3.9.6 (default, Oct 18 2022, 12:41:40) \n[Clang 14.0.0 (clang-1400.0.29.202)]"
  },
  "vscode": {
   "interpreter": {
    "hash": "31f2aee4e71d21fbe5cf8b01ff0e069b9275f58929596ceb00d14d90e3e16cd6"
   }
  }
 },
 "nbformat": 4,
 "nbformat_minor": 4
}
