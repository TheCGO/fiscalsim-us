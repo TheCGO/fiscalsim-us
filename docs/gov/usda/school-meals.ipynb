{
 "cells": [
  {
   "cell_type": "markdown",
   "metadata": {},
   "source": [
    "# School meals\n",
    "\n",
    "School meal subsidies comprise the National School Lunch Program (NSLP) and the School Breakfast Program (SBP).\n",
    "Eligibility depends on household size, state, income, and participation in other programs, and assigns children to either a *reduced* or *free* school meal subsidy tier.\n",
    "\n",
    "## Eligibility\n",
    "\n",
    "Children whose families have income below 130 percent of the federal poverty line, or who participate in SNAP, TANF, or the Food Distribution Program on Indian Reservations, are eligible for free breakfast and lunch at school.\n",
    "Children who do not meet these criteria and whose families have income below 185 percent of the federal poverty line are eligible for a reduced school meal subsidy.\n",
    "Other children receive a small meal subsidy from the federal government.\n",
    "\n",
    "## Benefit value\n",
    "\n",
    "We assign the benefit value as the federal reimbursement rates published by USDA.\n",
    "We then multiply this by 180 school days per year.\n",
    "We subtract the subsidy value provided to all children.\n",
    "\n",
    "## Examples\n",
    "\n",
    "### One child\n",
    "\n",
    "Consider a one-adult one-child household in California with \\$1,000 monthly earned income.\n",
    "They would be eligible for \\$74 per month in net school meal subsidies."
   ]
  },
  {
   "cell_type": "code",
   "execution_count": null,
   "metadata": {},
   "outputs": [],
   "source": [
    "from policyengine_us import IndividualSim\n",
    "import pandas as pd\n",
    "import plotly.express as px\n",
    "\n",
    "sim = IndividualSim(year=2022)\n",
    "sim.add_person(name=\"parent\", employment_income=1000 * 12)\n",
    "sim.add_person(name=\"child\", age=10, is_in_k12_school=True)\n",
    "sim.add_spm_unit(name=\"spm_unit\", members=[\"parent\", \"child\"], snap=0)\n",
    "\n",
    "round(sim.calc(\"school_meal_net_subsidy\")[0] / 12)"
   ]
  },
  {
   "cell_type": "markdown",
   "metadata": {},
   "source": [
    "What if their earnings change?\n",
    "They receive the maximum benefit of \\$74 per month until they reach \\$1,880 in monthly earnings, at which point it falls to \\$64 per month until they reach \\$2,690 per month, at which point it falls to \\$0."
   ]
  },
  {
   "cell_type": "code",
   "execution_count": null,
   "metadata": {},
   "outputs": [],
   "source": [
    "sim.vary(\"employment_income\", max=4000 * 12, step=120)\n",
    "\n",
    "import plotly.express as px\n",
    "\n",
    "LABELS = dict(\n",
    "    employment_income=\"Monthly employment income\",\n",
    "    school_meal_subsidy=\"Monthly school meal subsidy\",\n",
    "    mtr=\"Marginal tax rate\",\n",
    ")\n",
    "\n",
    "df = pd.DataFrame(\n",
    "    dict(\n",
    "        employment_income=sim.calc(\"employment_income\")[0],\n",
    "        school_meal_net_subsidy=sim.calc(\"school_meal_net_subsidy\")[0],\n",
    "    )\n",
    ")\n",
    "df[[\"employment_income\", \"school_meal_net_subsidy\"]] = (\n",
    "    df[[\"employment_income\", \"school_meal_net_subsidy\"]] / 12\n",
    ").round()\n",
    "\n",
    "fig = px.line(\n",
    "    df,\n",
    "    \"employment_income\",\n",
    "    \"school_meal_net_subsidy\",\n",
    "    labels=LABELS,\n",
    "    title=\"School meal subsidy for a one-parent one-child household in California\",\n",
    ")\n",
    "fig.update_layout(xaxis_tickformat=\"$,\", yaxis_tickformat=\"$,\")\n",
    "fig.show()"
   ]
  }
 ],
 "metadata": {
  "interpreter": {
   "hash": "8dfc7b25af29ff50af05ad7ef5344155df419318e539ca710572e6dd4f9023a3"
  },
  "kernelspec": {
   "display_name": "Python 3 (ipykernel)",
   "language": "python",
   "name": "python3"
  },
  "language_info": {
   "codemirror_mode": {
    "name": "ipython",
    "version": 3
   },
   "file_extension": ".py",
   "mimetype": "text/x-python",
   "name": "python",
   "nbconvert_exporter": "python",
   "pygments_lexer": "ipython3",
   "version": "3.7.11"
  }
 },
 "nbformat": 4,
 "nbformat_minor": 4
}
