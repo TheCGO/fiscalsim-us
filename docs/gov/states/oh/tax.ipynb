{
 "cells": [
  {
   "cell_type": "markdown",
   "id": "017e3948",
   "metadata": {},
   "source": [
    "## Ohio State Tax Code: Testing Simulation\n"
   ]
  },
  {
   "cell_type": "code",
   "execution_count": 26,
   "id": "442ece18",
   "metadata": {},
   "outputs": [
    {
     "ename": "TypeError",
     "evalue": "__call__() got an unexpected keyword argument 'adjusted_gross_income'",
     "output_type": "error",
     "traceback": [
      "\u001b[1;31m---------------------------------------------------------------------------\u001b[0m",
      "\u001b[1;31mTypeError\u001b[0m                                 Traceback (most recent call last)",
      "\u001b[1;32m~\\AppData\\Local\\Temp\\ipykernel_4400\\403273749.py\u001b[0m in \u001b[0;36m<module>\u001b[1;34m\u001b[0m\n\u001b[0;32m      7\u001b[0m     \u001b[0mperiod\u001b[0m \u001b[1;33m=\u001b[0m \u001b[1;36m2021\u001b[0m\u001b[1;33m,\u001b[0m\u001b[1;33m\u001b[0m\u001b[1;33m\u001b[0m\u001b[0m\n\u001b[0;32m      8\u001b[0m     \u001b[0madjusted_gross_income\u001b[0m \u001b[1;33m=\u001b[0m \u001b[1;36m40_000\u001b[0m\u001b[1;33m,\u001b[0m\u001b[1;33m\u001b[0m\u001b[1;33m\u001b[0m\u001b[0m\n\u001b[1;32m----> 9\u001b[1;33m     \u001b[0moh_deductions\u001b[0m\u001b[1;33m=\u001b[0m\u001b[1;36m4_000\u001b[0m\u001b[1;33m,\u001b[0m\u001b[1;33m\u001b[0m\u001b[1;33m\u001b[0m\u001b[0m\n\u001b[0m\u001b[0;32m     10\u001b[0m )\n\u001b[0;32m     11\u001b[0m \u001b[1;33m\u001b[0m\u001b[0m\n",
      "\u001b[1;31mTypeError\u001b[0m: __call__() got an unexpected keyword argument 'adjusted_gross_income'"
     ]
    }
   ],
   "source": [
    "from fiscalsim_us import Microsimulation\n",
    "import pandas as pd\n",
    "import plotly.express as px\n",
    "\n",
    "sim = Microsimulation()\n",
    "sim.tax_unit(\n",
    "    period = 2021,\n",
    "    adjusted_gross_income = 40_000,\n",
    "    oh_deductions=4_000,\n",
    ")\n",
    "\n",
    "round(sim.calc(\"oh_agi\")[0])"
   ]
  },
  {
   "cell_type": "code",
   "execution_count": null,
   "id": "6949014c",
   "metadata": {},
   "outputs": [],
   "source": []
  }
 ],
 "metadata": {
  "kernelspec": {
   "display_name": "fiscalsim-us",
   "language": "python",
   "name": "fiscalsim-us"
  },
  "language_info": {
   "codemirror_mode": {
    "name": "ipython",
    "version": 3
   },
   "file_extension": ".py",
   "mimetype": "text/x-python",
   "name": "python",
   "nbconvert_exporter": "python",
   "pygments_lexer": "ipython3",
   "version": "3.7.13"
  }
 },
 "nbformat": 4,
 "nbformat_minor": 5
}
