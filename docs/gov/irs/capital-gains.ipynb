{
 "cells": [
  {
   "cell_type": "markdown",
   "id": "d9c40ae0-29ec-47ac-81a3-cf9da431b976",
   "metadata": {},
   "source": [
    "# Capital Gains Tax\n",
    "\n",
    "Long-term capital gains (and qualified dividends) are taxed at lower rates than ordinary income."
   ]
  },
  {
   "cell_type": "code",
   "execution_count": 8,
   "id": "b98bd687-4fb4-44bb-8d6b-453c8bbd9067",
   "metadata": {
    "tags": [
     "hide-input"
    ]
   },
   "outputs": [
    {
     "ename": "ModuleNotFoundError",
     "evalue": "No module named 'fiscalsim_us'",
     "output_type": "error",
     "traceback": [
      "\u001b[1;31m---------------------------------------------------------------------------\u001b[0m",
      "\u001b[1;31mModuleNotFoundError\u001b[0m                       Traceback (most recent call last)",
      "\u001b[1;32m<ipython-input-8-081794c63f06>\u001b[0m in \u001b[0;36m<module>\u001b[1;34m\u001b[0m\n\u001b[1;32m----> 1\u001b[1;33m \u001b[1;32mfrom\u001b[0m \u001b[0mfiscalsim_us\u001b[0m \u001b[1;32mimport\u001b[0m \u001b[0mIndividualSim\u001b[0m\u001b[1;33m\u001b[0m\u001b[1;33m\u001b[0m\u001b[0m\n\u001b[0m\u001b[0;32m      2\u001b[0m \u001b[1;32mimport\u001b[0m \u001b[0mplotly\u001b[0m\u001b[1;33m.\u001b[0m\u001b[0mexpress\u001b[0m \u001b[1;32mas\u001b[0m \u001b[0mpx\u001b[0m\u001b[1;33m\u001b[0m\u001b[1;33m\u001b[0m\u001b[0m\n\u001b[0;32m      3\u001b[0m \u001b[1;32mimport\u001b[0m \u001b[0mpandas\u001b[0m \u001b[1;32mas\u001b[0m \u001b[0mpd\u001b[0m\u001b[1;33m\u001b[0m\u001b[1;33m\u001b[0m\u001b[0m\n\u001b[0;32m      4\u001b[0m \u001b[1;33m\u001b[0m\u001b[0m\n\u001b[0;32m      5\u001b[0m \u001b[0msim\u001b[0m \u001b[1;33m=\u001b[0m \u001b[0mIndividualSim\u001b[0m\u001b[1;33m(\u001b[0m\u001b[1;33m)\u001b[0m\u001b[1;33m\u001b[0m\u001b[1;33m\u001b[0m\u001b[0m\n",
      "\u001b[1;31mModuleNotFoundError\u001b[0m: No module named 'fiscalsim_us'"
     ]
    }
   ],
   "source": [
    "from fiscalsim_us import IndividualSim\n",
    "import plotly.express as px\n",
    "import pandas as pd\n",
    "\n",
    "sim = IndividualSim()\n",
    "\n",
    "sim.add_person(age=30, name=\"person\")\n",
    "sim.add_household(members=[\"person\"], zip_code=\"01001\")\n",
    "\n",
    "sim.vary(\"long_term_capital_gains\", max=1_000_000)\n",
    "\n",
    "df = pd.DataFrame(\n",
    "    {\n",
    "        \"Long-term capital gains\": sim.calc(\"long_term_capital_gains\")[0],\n",
    "        \"Marginal capital gains rate\": sim.deriv(\n",
    "            \"capital_gains_tax\", wrt=\"long_term_capital_gains\"\n",
    "        ),\n",
    "    }\n",
    ")\n",
    "\n",
    "px.line(\n",
    "    df, y=\"Marginal capital gains rate\", x=\"Long-term capital gains\"\n",
    ").update_layout(\n",
    "    title=\"Marginal capital gains rate by long-term capital gains income\",\n",
    "    yaxis_tickformat=\".0%\",\n",
    "    xaxis_tickformat=\"$,\",\n",
    ")"
   ]
  },
  {
   "cell_type": "code",
   "execution_count": null,
   "id": "581e15f2",
   "metadata": {},
   "outputs": [],
   "source": []
  }
 ],
 "metadata": {
  "kernelspec": {
   "display_name": "Python 3",
   "language": "python",
   "name": "python3"
  },
  "language_info": {
   "codemirror_mode": {
    "name": "ipython",
    "version": 3
   },
   "file_extension": ".py",
   "mimetype": "text/x-python",
   "name": "python",
   "nbconvert_exporter": "python",
   "pygments_lexer": "ipython3",
   "version": "3.8.8"
  },
  "vscode": {
   "interpreter": {
    "hash": "f6c9ba0ba91f0693015cf7a073db232538e793cc60920a6621bf7b5e9ac55a05"
   }
  }
 },
 "nbformat": 4,
 "nbformat_minor": 5
}
