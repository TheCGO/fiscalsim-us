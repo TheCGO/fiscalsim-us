{
 "cells": [
  {
   "cell_type": "markdown",
   "metadata": {},
   "source": [
    "# IRS\n",
    "\n",
    "The IRS administers the US federal income tax system, which encompasses rates, deductions, credits, and other features.\n",
    "\n",
    "This page shows how total federal income tax varies with employment income.\n",
    "Subsections show more detail on particular programs. "
   ]
  },
  {
   "cell_type": "code",
   "execution_count": 1,
   "metadata": {},
   "outputs": [
    {
     "ename": "ModuleNotFoundError",
     "evalue": "No module named 'fiscalsim_us'",
     "output_type": "error",
     "traceback": [
      "\u001b[1;31m---------------------------------------------------------------------------\u001b[0m",
      "\u001b[1;31mModuleNotFoundError\u001b[0m                       Traceback (most recent call last)",
      "\u001b[1;32m<ipython-input-1-9212f02cd9f2>\u001b[0m in \u001b[0;36m<module>\u001b[1;34m\u001b[0m\n\u001b[1;32m----> 1\u001b[1;33m \u001b[1;32mfrom\u001b[0m \u001b[0mfiscalsim_us\u001b[0m \u001b[1;32mimport\u001b[0m \u001b[0mIndividualSim\u001b[0m\u001b[1;33m\u001b[0m\u001b[1;33m\u001b[0m\u001b[0m\n\u001b[0m\u001b[0;32m      2\u001b[0m \u001b[1;32mimport\u001b[0m \u001b[0mpandas\u001b[0m \u001b[1;32mas\u001b[0m \u001b[0mpd\u001b[0m\u001b[1;33m\u001b[0m\u001b[1;33m\u001b[0m\u001b[0m\n\u001b[0;32m      3\u001b[0m \u001b[1;32mimport\u001b[0m \u001b[0mplotly\u001b[0m\u001b[1;33m.\u001b[0m\u001b[0mexpress\u001b[0m \u001b[1;32mas\u001b[0m \u001b[0mpx\u001b[0m\u001b[1;33m\u001b[0m\u001b[1;33m\u001b[0m\u001b[0m\n\u001b[0;32m      4\u001b[0m \u001b[1;33m\u001b[0m\u001b[0m\n\u001b[0;32m      5\u001b[0m \u001b[0mLIGHT_GRAY\u001b[0m \u001b[1;33m=\u001b[0m \u001b[1;34m\"#F5F5F5\"\u001b[0m\u001b[1;33m\u001b[0m\u001b[1;33m\u001b[0m\u001b[0m\n",
      "\u001b[1;31mModuleNotFoundError\u001b[0m: No module named 'fiscalsim_us'"
     ]
    }
   ],
   "source": [
    "from fiscalsim_us import IndividualSim\n",
    "import pandas as pd\n",
    "import plotly.express as px\n",
    "\n",
    "LIGHT_GRAY = \"#F5F5F5\"\n",
    "GRAY = \"#BDBDBD\"\n",
    "BLUE = \"#5091cc\"\n",
    "LIGHT_BLUE = \"lightblue\"\n",
    "DARK_BLUE = \"darkblue\"\n",
    "\n",
    "COLOR_MAP = {\"0\": GRAY, \"1\": LIGHT_BLUE, \"2\": BLUE, \"3\": DARK_BLUE}\n",
    "\n",
    "\n",
    "def make_tax(adults, children):\n",
    "    sim = IndividualSim(year=2022)\n",
    "    sim.add_person(name=\"head\", age=25)\n",
    "    members = [\"head\"]\n",
    "    if adults == 2:\n",
    "        sim.add_person(name=\"spouse\")\n",
    "        members += [\"spouse\"]\n",
    "    for i in range(children):\n",
    "        child = \"child{}\".format(i)\n",
    "        sim.add_person(name=child, age=6)\n",
    "        members += [child]\n",
    "    sim.add_tax_unit(name=\"tax_unit\", members=members, premium_tax_credit=0)\n",
    "    sim.add_household(name=\"household\", members=members)\n",
    "    sim.vary(\"employment_income\", max=1_000_000, step=1_000)\n",
    "    return pd.DataFrame(\n",
    "        dict(\n",
    "            employment_income=sim.calc(\"employment_income\")[0],\n",
    "            income_tax=sim.calc(\"income_tax\")[0].round(),\n",
    "            mtr=sim.deriv(\n",
    "                \"income_tax\", \"employment_income\", wrt_target=\"head\"\n",
    "            ),\n",
    "            adults=adults,\n",
    "            children=str(children),\n",
    "        )\n",
    "    )\n",
    "\n",
    "\n",
    "l = []\n",
    "for adults in range(1, 3):\n",
    "    for children in range(0, 4):\n",
    "        l.append(make_tax(adults, children))\n",
    "\n",
    "df = pd.concat(l)\n",
    "\n",
    "LABELS = dict(\n",
    "    employment_income=\"Employment income\",\n",
    "    income_source=\"Income source\",\n",
    "    income_tax=\"Federal income tax\",\n",
    "    mtr=\"Marginal tax rate\",\n",
    "    children=\"Children\",\n",
    "    adults=\"Adults\",\n",
    ")\n",
    "\n",
    "fig = px.line(\n",
    "    df,\n",
    "    \"employment_income\",\n",
    "    \"income_tax\",\n",
    "    color=\"children\",\n",
    "    animation_frame=\"adults\",\n",
    "    labels=LABELS,\n",
    "    title=\"Federal income tax, 2022\",\n",
    "    color_discrete_map=COLOR_MAP,\n",
    ")\n",
    "\n",
    "fig.update_layout(\n",
    "    xaxis_tickformat=\"$,\",\n",
    "    yaxis_tickformat=\"$,\",\n",
    "    plot_bgcolor=\"white\",\n",
    "    xaxis_gridcolor=LIGHT_GRAY,\n",
    "    yaxis_gridcolor=LIGHT_GRAY,\n",
    ")\n",
    "fig.show()"
   ]
  },
  {
   "cell_type": "markdown",
   "metadata": {},
   "source": [
    "The federal income tax code creates marginal tax rates ranging from -60% to +40%, depending on the household structure and income.\n",
    "The extremes at both ends are experienced by parents as their tax credits phase in and out."
   ]
  },
  {
   "cell_type": "code",
   "execution_count": 2,
   "metadata": {},
   "outputs": [
    {
     "ename": "NameError",
     "evalue": "name 'px' is not defined",
     "output_type": "error",
     "traceback": [
      "\u001b[1;31m---------------------------------------------------------------------------\u001b[0m",
      "\u001b[1;31mNameError\u001b[0m                                 Traceback (most recent call last)",
      "\u001b[1;32m<ipython-input-2-0b7c9ac467cd>\u001b[0m in \u001b[0;36m<module>\u001b[1;34m\u001b[0m\n\u001b[1;32m----> 1\u001b[1;33m fig = px.line(\n\u001b[0m\u001b[0;32m      2\u001b[0m     \u001b[0mdf\u001b[0m\u001b[1;33m,\u001b[0m\u001b[1;33m\u001b[0m\u001b[1;33m\u001b[0m\u001b[0m\n\u001b[0;32m      3\u001b[0m     \u001b[1;34m\"employment_income\"\u001b[0m\u001b[1;33m,\u001b[0m\u001b[1;33m\u001b[0m\u001b[1;33m\u001b[0m\u001b[0m\n\u001b[0;32m      4\u001b[0m     \u001b[1;34m\"mtr\"\u001b[0m\u001b[1;33m,\u001b[0m\u001b[1;33m\u001b[0m\u001b[1;33m\u001b[0m\u001b[0m\n\u001b[0;32m      5\u001b[0m     \u001b[0mcolor\u001b[0m\u001b[1;33m=\u001b[0m\u001b[1;34m\"children\"\u001b[0m\u001b[1;33m,\u001b[0m\u001b[1;33m\u001b[0m\u001b[1;33m\u001b[0m\u001b[0m\n",
      "\u001b[1;31mNameError\u001b[0m: name 'px' is not defined"
     ]
    }
   ],
   "source": [
    "fig = px.line(\n",
    "    df,\n",
    "    \"employment_income\",\n",
    "    \"mtr\",\n",
    "    color=\"children\",\n",
    "    animation_frame=\"adults\",\n",
    "    labels=LABELS,\n",
    "    title=\"Marginal federal income tax rate\",\n",
    "    color_discrete_map=COLOR_MAP,\n",
    ")\n",
    "fig.update_layout(\n",
    "    xaxis_tickformat=\"$,\",\n",
    "    yaxis_tickformat=\".0%\",\n",
    "    plot_bgcolor=\"white\",\n",
    "    xaxis_gridcolor=LIGHT_GRAY,\n",
    "    yaxis_gridcolor=LIGHT_GRAY,\n",
    ")\n",
    "fig.show()"
   ]
  },
  {
   "cell_type": "code",
   "execution_count": null,
   "metadata": {},
   "outputs": [],
   "source": []
  }
 ],
 "metadata": {
  "interpreter": {
   "hash": "f6c9ba0ba91f0693015cf7a073db232538e793cc60920a6621bf7b5e9ac55a05"
  },
  "kernelspec": {
   "display_name": "Python 3",
   "language": "python",
   "name": "python3"
  },
  "language_info": {
   "codemirror_mode": {
    "name": "ipython",
    "version": 3
   },
   "file_extension": ".py",
   "mimetype": "text/x-python",
   "name": "python",
   "nbconvert_exporter": "python",
   "pygments_lexer": "ipython3",
   "version": "3.8.8"
  }
 },
 "nbformat": 4,
 "nbformat_minor": 4
}
