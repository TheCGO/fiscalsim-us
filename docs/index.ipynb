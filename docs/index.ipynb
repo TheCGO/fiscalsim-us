{
 "cells": [
  {
   "cell_type": "markdown",
   "id": "5ba87897-e3a8-43b1-88de-adde69c749fe",
   "metadata": {},
   "source": [
    "# FiscalSim US\n",
    "\n",
    "FiscalSim US is a microsimulation model of the United States federal and state household tax and benefit system. It is supported and maintained by [The Center for Growth and Opportunity at Utah State Uhiversity](https://www.thecgo.org/). Much of the original federal tax and benefit code and some of the state tax logic was developed by [PolicyEngine](https://policyengine.org/), with their version of the code at [https://github.com/PolicyEngine/openfisca-us](https://github.com/PolicyEngine/openfisca-us).\n",
    "\n",
    "Currently FiscalSim US implements most of the federal income tax code, major federal benefit programs (e.g., SSI disability, Medicaid, TANF, SNAP, WIC, school meals, broadband subsidies) as well as the variations across states for how those programs are administered and augmented, and state income tax and credit. We are actively developing this tax logic, the underlying data, and the state income tax and credit code for each state."
   ]
  }
 ],
 "metadata": {
  "kernelspec": {
   "display_name": "Python 3.9.6 64-bit",
   "language": "python",
   "name": "python3"
  },
  "language_info": {
   "codemirror_mode": {
    "name": "ipython",
    "version": 3
   },
   "file_extension": ".py",
   "mimetype": "text/x-python",
   "name": "python",
   "nbconvert_exporter": "python",
   "pygments_lexer": "ipython3",
   "version": "3.9.6"
  },
  "vscode": {
   "interpreter": {
    "hash": "31f2aee4e71d21fbe5cf8b01ff0e069b9275f58929596ceb00d14d90e3e16cd6"
   }
  }
 },
 "nbformat": 4,
 "nbformat_minor": 5
}
