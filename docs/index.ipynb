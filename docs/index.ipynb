{
 "cells": [
  {
   "cell_type": "markdown",
   "id": "5ba87897-e3a8-43b1-88de-adde69c749fe",
   "metadata": {},
   "source": [
    "# OpenFisca-US\n",
    "\n",
    "OpenFisca US is a microsimulation model of the United States tax and benefit system.\n",
    "[PolicyEngine](https://policyengine.org) developed it upon the Python-based [OpenFisca](https://openfisca.org) framework.\n",
    "\n",
    "Currently it implements most of the federal income tax code, as well as certain benefit programs like the Supplemental Nutrition Assistance Program and the National School Lunch Program.\n",
    "We're actively developing it with the aim of launching PolicyEngine US, which will be a free open source web app that calculates tax liabilities and benefit eligibility for any household, and lets users adjust policy parameters to calculate the impacts on society and their own household.\n",
    "PolicyEngine US will resemble [PolicyEngine UK](https://policyengine.org/uk)."
   ]
  }
 ],
 "metadata": {
  "kernelspec": {
   "display_name": "Python 3.7.11 ('py37')",
   "language": "python",
   "name": "python3"
  },
  "language_info": {
   "codemirror_mode": {
    "name": "ipython",
    "version": 3
   },
   "file_extension": ".py",
   "mimetype": "text/x-python",
   "name": "python",
   "nbconvert_exporter": "python",
   "pygments_lexer": "ipython3",
   "version": "3.7.11"
  },
  "vscode": {
   "interpreter": {
    "hash": "f6c9ba0ba91f0693015cf7a073db232538e793cc60920a6621bf7b5e9ac55a05"
   }
  }
 },
 "nbformat": 4,
 "nbformat_minor": 5
}
