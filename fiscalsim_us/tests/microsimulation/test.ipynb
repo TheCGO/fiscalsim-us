{
 "cells": [
  {
   "cell_type": "code",
   "execution_count": 1,
   "metadata": {},
   "outputs": [],
   "source": [
    "import os\n",
    "from fiscalsim_us.api.microsimulation import Microsimulation\n",
    "from fiscalsim_us.data.datasets import CPS\n",
    "from fiscalsim_us.tools.dev.taxsim.generate_taxsim_tests import TaxSim35"
   ]
  },
  {
   "cell_type": "code",
   "execution_count": 2,
   "metadata": {},
   "outputs": [],
   "source": [
    "import numpy as np\n",
    "import pytest\n",
    "import pandas as pd\n",
    "import platform\n"
   ]
  },
  {
   "cell_type": "code",
   "execution_count": 3,
   "metadata": {},
   "outputs": [],
   "source": [
    "# Disable warnings\n",
    "import warnings\n",
    "\n",
    "warnings.filterwarnings(\"ignore\")\n",
    "\n",
    "STATES = [\"MD\", \"MA\", \"NY\", \"WA\"]\n",
    "DISTANCE = 100\n",
    "MINIMUM_PERCENT_CLOSE = 0.65\n"
   ]
  },
  {
   "cell_type": "code",
   "execution_count": 5,
   "metadata": {},
   "outputs": [],
   "source": [
    "if os.name != \"nt\":\n",
    "\n",
    "    @pytest.fixture(scope=\"module\")\n",
    "    def taxsim():\n",
    "        taxsim = TaxSim35()\n",
    "\n",
    "        yield taxsim.generate_from_microsimulation(\n",
    "            CPS, 2022, None, True, False\n",
    "        ).set_index(\"taxsim_taxsimid\")\n",
    "\n",
    "    @pytest.fixture(scope=\"module\")\n",
    "    def sim():\n",
    "        yield Microsimulation()"
   ]
  },
  {
   "cell_type": "code",
   "execution_count": 6,
   "metadata": {},
   "outputs": [],
   "source": [
    "@pytest.mark.skipif(os.name == \"nt\", reason=\"This test is not run on Windows\")\n",
    "def test_federal_tax_against_taxsim(sim, taxsim):\n",
    "    if platform.system() == \"Windows\":\n",
    "        warnings.warn(\"This test is not run on Windows\")\n",
    "        raise pytest.skip()\n",
    "    tax = sim.calc(\"income_tax\")\n",
    "    tax.index = sim.calc(\"tax_unit_id\").values\n",
    "    comparison_df = pd.DataFrame(index=sim.calc(\"tax_unit_id\").values)\n",
    "    comparison_df[\"fiscalsim_us\"] = tax\n",
    "    comparison_df[\"taxsim\"] = taxsim.taxsim_fiitax\n",
    "    relative_distance = np.absolute(\n",
    "        comparison_df.fiscalsim_us - comparison_df.taxsim\n",
    "    )\n",
    "    percent_close = (relative_distance < DISTANCE).mean()\n",
    "    assert percent_close > MINIMUM_PERCENT_CLOSE"
   ]
  },
  {
   "cell_type": "code",
   "execution_count": 7,
   "metadata": {},
   "outputs": [],
   "source": [
    "@pytest.mark.skipif(os.name == \"nt\", reason=\"This test is not run on Windows\")\n",
    "@pytest.mark.parametrize(\"state\", STATES)\n",
    "def test_state_income_tax_against_taxsim(state: str, sim, taxsim):\n",
    "    in_state = sim.calc(\"tax_unit_state\").values == state\n",
    "    tax = sim.calc(\"state_income_tax\")\n",
    "    tax.index = sim.calc(\"tax_unit_id\").values\n",
    "    comparison_df = pd.DataFrame(\n",
    "        dict(\n",
    "            fiscalsim_us=tax,\n",
    "            taxsim=taxsim.taxsim_siitax,\n",
    "        ),\n",
    "        index=sim.calc(\"tax_unit_id\").values,\n",
    "    )\n",
    "    comparison_df = comparison_df[in_state]\n",
    "    relative_distance = np.absolute(\n",
    "        comparison_df.fiscalsim_us - comparison_df.taxsim\n",
    "    )\n",
    "    percent_close = (relative_distance < DISTANCE).mean()\n",
    "    assert percent_close > MINIMUM_PERCENT_CLOSE\n"
   ]
  }
 ],
 "metadata": {
  "kernelspec": {
   "display_name": "Python 3.9.7 64-bit",
   "language": "python",
   "name": "python3"
  },
  "language_info": {
   "codemirror_mode": {
    "name": "ipython",
    "version": 3
   },
   "file_extension": ".py",
   "mimetype": "text/x-python",
   "name": "python",
   "nbconvert_exporter": "python",
   "pygments_lexer": "ipython3",
   "version": "3.9.7"
  },
  "orig_nbformat": 4,
  "vscode": {
   "interpreter": {
    "hash": "aee8b7b246df8f9039afb4144a1f6fd8d2ca17a180786b69acc140d282b71a49"
   }
  }
 },
 "nbformat": 4,
 "nbformat_minor": 2
}
