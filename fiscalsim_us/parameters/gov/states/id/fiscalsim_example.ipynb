{
 "cells": [
  {
   "cell_type": "markdown",
   "metadata": {},
   "source": [
    "# Parameter and Variable Examples"
   ]
  },
  {
   "cell_type": "markdown",
   "metadata": {},
   "source": [
    "### Parameter:"
   ]
  },
  {
   "cell_type": "markdown",
   "metadata": {},
   "source": [
    "These are the things that the model can theoretically change in the future. They are also things that apply to everyone. That may sound confusing, but later when this notebook discusses variables you will see how it works. "
   ]
  },
  {
   "cell_type": "markdown",
   "metadata": {},
   "source": [
    "See an example below. the code is commented out because the notebook won't recognize a yaml syntax. This is a .yaml file which stands for \"yet another markdown language\". It's kind of like a dictionary for storing these important numbers for the simulation. "
   ]
  },
  {
   "cell_type": "code",
   "execution_count": null,
   "metadata": {},
   "outputs": [],
   "source": [
    "# description: Standard deduction for va State tax.\n",
    "# SINGLE:\n",
    "#   2021-01-01: 4_500\n",
    "# JOINT:\n",
    "#   2021-01-01: 9_000\n",
    "# SEPARATE:\n",
    "#   2021-01-01: 4_500\n",
    "# metadata:\n",
    "#   unit: currency-USD\n",
    "#   period: year\n",
    "#   breakdown:\n",
    "#     - filing_status\n",
    "#   name: va_standard_deduction_amount\n",
    "#   label: VA standard deduction\n",
    "#   reference:\n",
    "#     - title: VA Form 760 \n",
    "#       href: \"https://www.tax.virginia.gov/sites/default/files/taxforms/individual-income-tax/2021/schedule-2021.pdf\""
   ]
  },
  {
   "cell_type": "markdown",
   "metadata": {},
   "source": [
    "Here is how you access a parameter inside the \"variables\" (or functions) later. Notice how the chain of words is essentially the filepath for this parameter. "
   ]
  },
  {
   "cell_type": "code",
   "execution_count": 2,
   "metadata": {},
   "outputs": [],
   "source": [
    "va_standard_deduction = parameters(period).gov.states.va.tax.income.va_standard_deduction_amount"
   ]
  },
  {
   "cell_type": "markdown",
   "metadata": {},
   "source": [
    "So using this in a variable would look like this. Notice how the last word in the parameter chain refers to what part of the paramter you are loading. In this example, \".SINGLE\" means that you are loading in the 4,500 standard deduction under the \"SINGLE\" parameter above. "
   ]
  },
  {
   "cell_type": "code",
   "execution_count": null,
   "metadata": {},
   "outputs": [],
   "source": [
    "from fiscalsim_us.model_api import *\n",
    "\n",
    "\n",
    "class calc_line_14(Variable):\n",
    "    value_type = float\n",
    "    entity = TaxUnit\n",
    "    label = \"VA interim step to get to total virginia taxable income, line 14 on form 760 https://www.tax.virginia.gov/sites/default/files/taxforms/individual-income-tax/2021/760-2021.pdf\"\n",
    "    unit = USD\n",
    "    definition_period = YEAR\n",
    "    defined_for = StateCode.VA\n",
    "\n",
    "    def formula(tax_unit,period,parameters):\n",
    "\n",
    "        filing_status = tax_unit(\"filing_status\", period)\n",
    "\n",
    "        if filing_status == 1:\n",
    "\n",
    "            va_standard_deduction = parameters(\n",
    "            period\n",
    "            ).gov.states.va.tax.income.va_standard_deduction_amount.SINGLE\n",
    "\n",
    "        if filing_status == 2:\n",
    "\n",
    "            va_standard_deduction = parameters(\n",
    "            period\n",
    "            ).gov.states.va.tax.income.va_standard_deduction_amount.JOINT\n",
    "\n",
    "        \n",
    "        if filing_status == 3: \n",
    "\n",
    "            va_standard_deduction = parameters(\n",
    "            period\n",
    "            ).gov.states.va.tax.income.va_standard_deduction_amount.SEPARATE\n",
    "\n",
    "\n",
    "\n",
    "        line_12 = tax_unit(\"va_exemptions\",period)\n",
    "\n",
    "        subtotal = va_standard_deduction + line_12 \n",
    "\n",
    "        return(subtotal)"
   ]
  },
  {
   "cell_type": "markdown",
   "metadata": {},
   "source": [
    "### Variables \n"
   ]
  },
  {
   "cell_type": "markdown",
   "metadata": {},
   "source": [
    "Variables is this programs way of referring to functions. In the documentation for openfisca (the original codebase of this program) it states that variables are things that change depending on the individual person you are simulating. For example, everyone has different tax liabilities at the end of the day (the result of the variable/function) even though they all have the same standard deduction (the paramater)."
   ]
  },
  {
   "cell_type": "markdown",
   "metadata": {},
   "source": [
    "Now we will break down each part of coding a variable in order to outline it's different parts. "
   ]
  },
  {
   "cell_type": "markdown",
   "metadata": {},
   "source": [
    "#### Imports and Class Declaration"
   ]
  },
  {
   "cell_type": "code",
   "execution_count": null,
   "metadata": {},
   "outputs": [],
   "source": [
    "\n",
    "# First you call the fiscalsim api. This brings in all of the code that is used \n",
    "# as the base for the specific variable you are coding. \n",
    "\n",
    "from fiscalsim_us.model_api import *\n",
    "\n",
    "# Now you declare the class. The class is like the blueprint for later \"objects\" \n",
    "# that will be built. You specify what the blueprint looks like, and then later \n",
    "# when the simulation is being run, it creates code based on this blueprint. \n",
    "\n",
    "class calc_line_14(Variable): # The \"variable\" in the parentheses means that you are\n",
    "                              # making a new class based on the \"variable\" template from\n",
    "                              # fiscalsim_us.model_api\n",
    "\n",
    "    value_type = float # this is the type of value that this will return\n",
    "\n",
    "    entity = TaxUnit # the entity being modeled, in this case a tax unit\n",
    "\n",
    "    # The label is a description of that step along with a reference \n",
    "    # of where to find information for that step \n",
    "\n",
    "    label = \"VA interim step to get to total virginia taxable income, line 14 on form 760 https://www.tax.virginia.gov/sites/default/files/taxforms/individual-income-tax/2021/760-2021.pdf\"\n",
    "\n",
    "    unit = USD # the units that this variable output is in\n",
    "\n",
    "    definition_period = YEAR \n",
    "\n",
    "    defined_for = StateCode.VA\n",
    "    "
   ]
  },
  {
   "cell_type": "markdown",
   "metadata": {},
   "source": [
    "#### Formula Structure "
   ]
  },
  {
   "cell_type": "code",
   "execution_count": null,
   "metadata": {},
   "outputs": [],
   "source": [
    "from fiscalsim_us.model_api import *\n",
    "\n",
    "\n",
    "class calc_line_14(Variable):\n",
    "    value_type = float\n",
    "    entity = TaxUnit\n",
    "    label = \"VA interim step to get to total virginia taxable income, line 14 on form 760 https://www.tax.virginia.gov/sites/default/files/taxforms/individual-income-tax/2021/760-2021.pdf\"\n",
    "    unit = USD\n",
    "    definition_period = YEAR\n",
    "    defined_for = StateCode.VA\n",
    "\n",
    "\n",
    "\n",
    "    # Now let's look at some things to know for the formula within the class \n",
    "\n",
    "    def formula(tax_unit,period,parameters): # tax_unit, period, and parameters are all inputs that are received\n",
    "                                             # when this blueprint is being called in the simulation. \n",
    "                                             # the parameters input is where the parameters you code are brought in \n",
    "                                             \n",
    "\n",
    "        filing_status = tax_unit(\"filing_status\", period) # this is like saying \"from the tax unit data,\n",
    "                                                          # give me the tax filing status data\"\n",
    "                                                          # you can do this for other inputs that are specific to the \n",
    "                                                          # individual person that it's being ran on. \n",
    "                                                          # This is also how you pull the results from another variable. \n",
    "\n",
    "        if filing_status == 1:\n",
    "\n",
    "            # Here we call the standard deduction, which follows this filepath within the parameters input \n",
    "\n",
    "            va_standard_deduction = parameters(\n",
    "            period\n",
    "            ).gov.states.va.tax.income.va_standard_deduction_amount.SINGLE\n",
    "\n",
    "        if filing_status == 2:\n",
    "\n",
    "            va_standard_deduction = parameters(\n",
    "            period\n",
    "            ).gov.states.va.tax.income.va_standard_deduction_amount.JOINT\n",
    "\n",
    "        \n",
    "        if filing_status == 3: \n",
    "\n",
    "            va_standard_deduction = parameters(\n",
    "            period\n",
    "            ).gov.states.va.tax.income.va_standard_deduction_amount.SEPARATE\n",
    "\n",
    "\n",
    "\n",
    "        line_12 = tax_unit(\"va_exemptions\",period)\n",
    "\n",
    "        subtotal = va_standard_deduction + line_12 \n",
    "\n",
    "        return(subtotal) # Return is what the will be returned when the simulation runs this code. IE the \"ANSWER\""
   ]
  },
  {
   "cell_type": "markdown",
   "metadata": {},
   "source": [
    "Overall, I'm no expert on this whole repository, but these are just things that I have learned from my study of it. Consult Rick with further questions. Feel free to correct any of this that you think is wrong. "
   ]
  },
  {
   "cell_type": "markdown",
   "metadata": {},
   "source": []
  }
 ],
 "metadata": {
  "kernelspec": {
   "display_name": "Python 3.9.7 64-bit",
   "language": "python",
   "name": "python3"
  },
  "language_info": {
   "codemirror_mode": {
    "name": "ipython",
    "version": 3
   },
   "file_extension": ".py",
   "mimetype": "text/x-python",
   "name": "python",
   "nbconvert_exporter": "python",
   "pygments_lexer": "ipython3",
   "version": "3.9.7"
  },
  "orig_nbformat": 4,
  "vscode": {
   "interpreter": {
    "hash": "aee8b7b246df8f9039afb4144a1f6fd8d2ca17a180786b69acc140d282b71a49"
   }
  }
 },
 "nbformat": 4,
 "nbformat_minor": 2
}
