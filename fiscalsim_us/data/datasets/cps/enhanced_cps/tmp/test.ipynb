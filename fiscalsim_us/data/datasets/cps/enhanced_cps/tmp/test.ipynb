{
 "cells": [
  {
   "cell_type": "code",
   "execution_count": 11,
   "metadata": {},
   "outputs": [],
   "source": [
    "from fiscalsim_us import Microsimulation\n",
    "import pandas as pd\n",
    "from microdf import MicroDataFrame\n",
    "\n",
    "cps_sim = Microsimulation(dataset=\"cps_2023\")\n",
    "enhanced_cps_sim = Microsimulation(dataset=\"enhanced_cps\")\n",
    "\n",
    "puf = MicroDataFrame(\n",
    "    pd.read_csv(\"puf_full_demographics.csv.gz\"), weights=\"decimal_weight\"\n",
    ")"
   ]
  },
  {
   "cell_type": "code",
   "execution_count": 5,
   "metadata": {},
   "outputs": [
    {
     "data": {
      "application/vnd.plotly.v1+json": {
       "config": {
        "plotlyServerURL": "https://plot.ly"
       },
       "data": [
        {
         "alignmentgroup": "True",
         "hovertemplate": "Source=CPS<br>Band=%{x}<br>Number of returns error=%{y}<extra></extra>",
         "legendgroup": "CPS",
         "marker": {
          "color": "#BDBDBD",
          "pattern": {
           "shape": ""
          }
         },
         "name": "CPS",
         "offsetgroup": "CPS",
         "orientation": "v",
         "showlegend": true,
         "textposition": "auto",
         "type": "bar",
         "x": [
          "1-5,000",
          "5,000-10,000",
          "10,000-15,000",
          "15,000-20,000",
          "20,000-25,000",
          "25,000-30,000",
          "30,000-40,000",
          "40,000-50,000",
          "50,000-75,000",
          "75,000-100,000",
          "100,000-200,000",
          "200,000-500,000",
          "500,000-1,000,000",
          "1,000,000-1,500,000",
          "1,500,000-2,000,000",
          "2,000,000-5,000,000",
          "5,000,000-10,000,000",
          "10,000,000-inf"
         ],
         "xaxis": "x",
         "y": [
          0.4643912757857782,
          -0.4372391912268059,
          -0.40979509421078786,
          -0.3142389356287413,
          -0.19695705472557667,
          -0.11833826287845839,
          -0.0900709953083616,
          -0.01715715160086906,
          0.09216943040445402,
          0.07009879141081843,
          0.24482670620753244,
          0.3871547096148533,
          0.023546162570253992,
          0.8486782321871176,
          -0.7080954550234476,
          -0.8359663616304394,
          -1,
          -1
         ],
         "yaxis": "y"
        },
        {
         "alignmentgroup": "True",
         "hovertemplate": "Source=Enhanced CPS<br>Band=%{x}<br>Number of returns error=%{y}<extra></extra>",
         "legendgroup": "Enhanced CPS",
         "marker": {
          "color": "#2C6496",
          "pattern": {
           "shape": ""
          }
         },
         "name": "Enhanced CPS",
         "offsetgroup": "Enhanced CPS",
         "orientation": "v",
         "showlegend": true,
         "textposition": "auto",
         "type": "bar",
         "x": [
          "1-5,000",
          "5,000-10,000",
          "10,000-15,000",
          "15,000-20,000",
          "20,000-25,000",
          "25,000-30,000",
          "30,000-40,000",
          "40,000-50,000",
          "50,000-75,000",
          "75,000-100,000",
          "100,000-200,000",
          "200,000-500,000",
          "500,000-1,000,000",
          "1,000,000-1,500,000",
          "1,500,000-2,000,000",
          "2,000,000-5,000,000",
          "5,000,000-10,000,000",
          "10,000,000-inf"
         ],
         "xaxis": "x",
         "y": [
          0.5646760123443657,
          -0.2549641161809797,
          -0.17856401107333586,
          0.043024758239233796,
          0.05644263497329316,
          0.14870520465663173,
          0.05935522862388565,
          0.05707255683736734,
          0.02209538949664913,
          0.04827309956742831,
          0.018980852840265516,
          0.08869318285328309,
          0.24474302900523837,
          0.7171264543235345,
          0.7837755176617811,
          0.456774538428141,
          0.5253291704381582,
          1.6260324164659843
         ],
         "yaxis": "y"
        },
        {
         "alignmentgroup": "True",
         "hovertemplate": "Source=PUF (2015)<br>Band=%{x}<br>Number of returns error=%{y}<extra></extra>",
         "legendgroup": "PUF (2015)",
         "marker": {
          "color": "#616161",
          "pattern": {
           "shape": ""
          }
         },
         "name": "PUF (2015)",
         "offsetgroup": "PUF (2015)",
         "orientation": "v",
         "showlegend": true,
         "textposition": "auto",
         "type": "bar",
         "x": [
          "1-5,000",
          "5,000-10,000",
          "10,000-15,000",
          "15,000-20,000",
          "20,000-25,000",
          "25,000-30,000",
          "30,000-40,000",
          "40,000-50,000",
          "50,000-75,000",
          "75,000-100,000",
          "100,000-200,000",
          "200,000-500,000",
          "500,000-1,000,000",
          "1,000,000-1,500,000",
          "1,500,000-2,000,000",
          "2,000,000-5,000,000",
          "5,000,000-10,000,000",
          "10,000,000-inf"
         ],
         "xaxis": "x",
         "y": [
          -0.018442056220683845,
          0.14732599822632486,
          0.1681961597910715,
          0.1518983727922516,
          0.0412974951263847,
          -0.06061021070756567,
          -0.09824159919352937,
          -0.09881976686197236,
          -0.10866606621529307,
          -0.10087379131625351,
          -0.16873473455655397,
          -0.2829217667770839,
          -0.2816537975322604,
          -0.2747066524864309,
          -0.25902132895063035,
          -0.2541134617088887,
          -0.2781982892498829,
          -0.6706938591210114
         ],
         "yaxis": "y"
        }
       ],
       "layout": {
        "barmode": "group",
        "font": {
         "color": "black",
         "family": "Roboto Serif"
        },
        "height": 600,
        "images": [
         {
          "sizex": 0.2,
          "sizey": 0.2,
          "source": "https://raw.githubusercontent.com/PolicyEngine/policyengine-app/master/src/images/logos/policyengine/blue.png",
          "x": 1,
          "xanchor": "right",
          "xref": "paper",
          "y": -0.15,
          "yanchor": "bottom",
          "yref": "paper"
         }
        ],
        "legend": {
         "title": {
          "text": "Source"
         },
         "tracegroupgap": 0
        },
        "margin": {
         "t": 60
        },
        "modebar": {
         "bgcolor": "rgba(0,0,0,0)",
         "color": "rgba(0,0,0,0)"
        },
        "template": {
         "data": {
          "bar": [
           {
            "error_x": {
             "color": "#2a3f5f"
            },
            "error_y": {
             "color": "#2a3f5f"
            },
            "marker": {
             "line": {
              "color": "white",
              "width": 0.5
             },
             "pattern": {
              "fillmode": "overlay",
              "size": 10,
              "solidity": 0.2
             }
            },
            "type": "bar"
           }
          ],
          "barpolar": [
           {
            "marker": {
             "line": {
              "color": "white",
              "width": 0.5
             },
             "pattern": {
              "fillmode": "overlay",
              "size": 10,
              "solidity": 0.2
             }
            },
            "type": "barpolar"
           }
          ],
          "carpet": [
           {
            "aaxis": {
             "endlinecolor": "#2a3f5f",
             "gridcolor": "#C8D4E3",
             "linecolor": "#C8D4E3",
             "minorgridcolor": "#C8D4E3",
             "startlinecolor": "#2a3f5f"
            },
            "baxis": {
             "endlinecolor": "#2a3f5f",
             "gridcolor": "#C8D4E3",
             "linecolor": "#C8D4E3",
             "minorgridcolor": "#C8D4E3",
             "startlinecolor": "#2a3f5f"
            },
            "type": "carpet"
           }
          ],
          "choropleth": [
           {
            "colorbar": {
             "outlinewidth": 0,
             "ticks": ""
            },
            "type": "choropleth"
           }
          ],
          "contour": [
           {
            "colorbar": {
             "outlinewidth": 0,
             "ticks": ""
            },
            "colorscale": [
             [
              0,
              "#0d0887"
             ],
             [
              0.1111111111111111,
              "#46039f"
             ],
             [
              0.2222222222222222,
              "#7201a8"
             ],
             [
              0.3333333333333333,
              "#9c179e"
             ],
             [
              0.4444444444444444,
              "#bd3786"
             ],
             [
              0.5555555555555556,
              "#d8576b"
             ],
             [
              0.6666666666666666,
              "#ed7953"
             ],
             [
              0.7777777777777778,
              "#fb9f3a"
             ],
             [
              0.8888888888888888,
              "#fdca26"
             ],
             [
              1,
              "#f0f921"
             ]
            ],
            "type": "contour"
           }
          ],
          "contourcarpet": [
           {
            "colorbar": {
             "outlinewidth": 0,
             "ticks": ""
            },
            "type": "contourcarpet"
           }
          ],
          "heatmap": [
           {
            "colorbar": {
             "outlinewidth": 0,
             "ticks": ""
            },
            "colorscale": [
             [
              0,
              "#0d0887"
             ],
             [
              0.1111111111111111,
              "#46039f"
             ],
             [
              0.2222222222222222,
              "#7201a8"
             ],
             [
              0.3333333333333333,
              "#9c179e"
             ],
             [
              0.4444444444444444,
              "#bd3786"
             ],
             [
              0.5555555555555556,
              "#d8576b"
             ],
             [
              0.6666666666666666,
              "#ed7953"
             ],
             [
              0.7777777777777778,
              "#fb9f3a"
             ],
             [
              0.8888888888888888,
              "#fdca26"
             ],
             [
              1,
              "#f0f921"
             ]
            ],
            "type": "heatmap"
           }
          ],
          "heatmapgl": [
           {
            "colorbar": {
             "outlinewidth": 0,
             "ticks": ""
            },
            "colorscale": [
             [
              0,
              "#0d0887"
             ],
             [
              0.1111111111111111,
              "#46039f"
             ],
             [
              0.2222222222222222,
              "#7201a8"
             ],
             [
              0.3333333333333333,
              "#9c179e"
             ],
             [
              0.4444444444444444,
              "#bd3786"
             ],
             [
              0.5555555555555556,
              "#d8576b"
             ],
             [
              0.6666666666666666,
              "#ed7953"
             ],
             [
              0.7777777777777778,
              "#fb9f3a"
             ],
             [
              0.8888888888888888,
              "#fdca26"
             ],
             [
              1,
              "#f0f921"
             ]
            ],
            "type": "heatmapgl"
           }
          ],
          "histogram": [
           {
            "marker": {
             "pattern": {
              "fillmode": "overlay",
              "size": 10,
              "solidity": 0.2
             }
            },
            "type": "histogram"
           }
          ],
          "histogram2d": [
           {
            "colorbar": {
             "outlinewidth": 0,
             "ticks": ""
            },
            "colorscale": [
             [
              0,
              "#0d0887"
             ],
             [
              0.1111111111111111,
              "#46039f"
             ],
             [
              0.2222222222222222,
              "#7201a8"
             ],
             [
              0.3333333333333333,
              "#9c179e"
             ],
             [
              0.4444444444444444,
              "#bd3786"
             ],
             [
              0.5555555555555556,
              "#d8576b"
             ],
             [
              0.6666666666666666,
              "#ed7953"
             ],
             [
              0.7777777777777778,
              "#fb9f3a"
             ],
             [
              0.8888888888888888,
              "#fdca26"
             ],
             [
              1,
              "#f0f921"
             ]
            ],
            "type": "histogram2d"
           }
          ],
          "histogram2dcontour": [
           {
            "colorbar": {
             "outlinewidth": 0,
             "ticks": ""
            },
            "colorscale": [
             [
              0,
              "#0d0887"
             ],
             [
              0.1111111111111111,
              "#46039f"
             ],
             [
              0.2222222222222222,
              "#7201a8"
             ],
             [
              0.3333333333333333,
              "#9c179e"
             ],
             [
              0.4444444444444444,
              "#bd3786"
             ],
             [
              0.5555555555555556,
              "#d8576b"
             ],
             [
              0.6666666666666666,
              "#ed7953"
             ],
             [
              0.7777777777777778,
              "#fb9f3a"
             ],
             [
              0.8888888888888888,
              "#fdca26"
             ],
             [
              1,
              "#f0f921"
             ]
            ],
            "type": "histogram2dcontour"
           }
          ],
          "mesh3d": [
           {
            "colorbar": {
             "outlinewidth": 0,
             "ticks": ""
            },
            "type": "mesh3d"
           }
          ],
          "parcoords": [
           {
            "line": {
             "colorbar": {
              "outlinewidth": 0,
              "ticks": ""
             }
            },
            "type": "parcoords"
           }
          ],
          "pie": [
           {
            "automargin": true,
            "type": "pie"
           }
          ],
          "scatter": [
           {
            "fillpattern": {
             "fillmode": "overlay",
             "size": 10,
             "solidity": 0.2
            },
            "type": "scatter"
           }
          ],
          "scatter3d": [
           {
            "line": {
             "colorbar": {
              "outlinewidth": 0,
              "ticks": ""
             }
            },
            "marker": {
             "colorbar": {
              "outlinewidth": 0,
              "ticks": ""
             }
            },
            "type": "scatter3d"
           }
          ],
          "scattercarpet": [
           {
            "marker": {
             "colorbar": {
              "outlinewidth": 0,
              "ticks": ""
             }
            },
            "type": "scattercarpet"
           }
          ],
          "scattergeo": [
           {
            "marker": {
             "colorbar": {
              "outlinewidth": 0,
              "ticks": ""
             }
            },
            "type": "scattergeo"
           }
          ],
          "scattergl": [
           {
            "marker": {
             "colorbar": {
              "outlinewidth": 0,
              "ticks": ""
             }
            },
            "type": "scattergl"
           }
          ],
          "scattermapbox": [
           {
            "marker": {
             "colorbar": {
              "outlinewidth": 0,
              "ticks": ""
             }
            },
            "type": "scattermapbox"
           }
          ],
          "scatterpolar": [
           {
            "marker": {
             "colorbar": {
              "outlinewidth": 0,
              "ticks": ""
             }
            },
            "type": "scatterpolar"
           }
          ],
          "scatterpolargl": [
           {
            "marker": {
             "colorbar": {
              "outlinewidth": 0,
              "ticks": ""
             }
            },
            "type": "scatterpolargl"
           }
          ],
          "scatterternary": [
           {
            "marker": {
             "colorbar": {
              "outlinewidth": 0,
              "ticks": ""
             }
            },
            "type": "scatterternary"
           }
          ],
          "surface": [
           {
            "colorbar": {
             "outlinewidth": 0,
             "ticks": ""
            },
            "colorscale": [
             [
              0,
              "#0d0887"
             ],
             [
              0.1111111111111111,
              "#46039f"
             ],
             [
              0.2222222222222222,
              "#7201a8"
             ],
             [
              0.3333333333333333,
              "#9c179e"
             ],
             [
              0.4444444444444444,
              "#bd3786"
             ],
             [
              0.5555555555555556,
              "#d8576b"
             ],
             [
              0.6666666666666666,
              "#ed7953"
             ],
             [
              0.7777777777777778,
              "#fb9f3a"
             ],
             [
              0.8888888888888888,
              "#fdca26"
             ],
             [
              1,
              "#f0f921"
             ]
            ],
            "type": "surface"
           }
          ],
          "table": [
           {
            "cells": {
             "fill": {
              "color": "#EBF0F8"
             },
             "line": {
              "color": "white"
             }
            },
            "header": {
             "fill": {
              "color": "#C8D4E3"
             },
             "line": {
              "color": "white"
             }
            },
            "type": "table"
           }
          ]
         },
         "layout": {
          "annotationdefaults": {
           "arrowcolor": "#2a3f5f",
           "arrowhead": 0,
           "arrowwidth": 1
          },
          "autotypenumbers": "strict",
          "coloraxis": {
           "colorbar": {
            "outlinewidth": 0,
            "ticks": ""
           }
          },
          "colorscale": {
           "diverging": [
            [
             0,
             "#8e0152"
            ],
            [
             0.1,
             "#c51b7d"
            ],
            [
             0.2,
             "#de77ae"
            ],
            [
             0.3,
             "#f1b6da"
            ],
            [
             0.4,
             "#fde0ef"
            ],
            [
             0.5,
             "#f7f7f7"
            ],
            [
             0.6,
             "#e6f5d0"
            ],
            [
             0.7,
             "#b8e186"
            ],
            [
             0.8,
             "#7fbc41"
            ],
            [
             0.9,
             "#4d9221"
            ],
            [
             1,
             "#276419"
            ]
           ],
           "sequential": [
            [
             0,
             "#0d0887"
            ],
            [
             0.1111111111111111,
             "#46039f"
            ],
            [
             0.2222222222222222,
             "#7201a8"
            ],
            [
             0.3333333333333333,
             "#9c179e"
            ],
            [
             0.4444444444444444,
             "#bd3786"
            ],
            [
             0.5555555555555556,
             "#d8576b"
            ],
            [
             0.6666666666666666,
             "#ed7953"
            ],
            [
             0.7777777777777778,
             "#fb9f3a"
            ],
            [
             0.8888888888888888,
             "#fdca26"
            ],
            [
             1,
             "#f0f921"
            ]
           ],
           "sequentialminus": [
            [
             0,
             "#0d0887"
            ],
            [
             0.1111111111111111,
             "#46039f"
            ],
            [
             0.2222222222222222,
             "#7201a8"
            ],
            [
             0.3333333333333333,
             "#9c179e"
            ],
            [
             0.4444444444444444,
             "#bd3786"
            ],
            [
             0.5555555555555556,
             "#d8576b"
            ],
            [
             0.6666666666666666,
             "#ed7953"
            ],
            [
             0.7777777777777778,
             "#fb9f3a"
            ],
            [
             0.8888888888888888,
             "#fdca26"
            ],
            [
             1,
             "#f0f921"
            ]
           ]
          },
          "colorway": [
           "#636efa",
           "#EF553B",
           "#00cc96",
           "#ab63fa",
           "#FFA15A",
           "#19d3f3",
           "#FF6692",
           "#B6E880",
           "#FF97FF",
           "#FECB52"
          ],
          "font": {
           "color": "#2a3f5f"
          },
          "geo": {
           "bgcolor": "white",
           "lakecolor": "white",
           "landcolor": "white",
           "showlakes": true,
           "showland": true,
           "subunitcolor": "#C8D4E3"
          },
          "hoverlabel": {
           "align": "left"
          },
          "hovermode": "closest",
          "mapbox": {
           "style": "light"
          },
          "paper_bgcolor": "white",
          "plot_bgcolor": "white",
          "polar": {
           "angularaxis": {
            "gridcolor": "#EBF0F8",
            "linecolor": "#EBF0F8",
            "ticks": ""
           },
           "bgcolor": "white",
           "radialaxis": {
            "gridcolor": "#EBF0F8",
            "linecolor": "#EBF0F8",
            "ticks": ""
           }
          },
          "scene": {
           "xaxis": {
            "backgroundcolor": "white",
            "gridcolor": "#DFE8F3",
            "gridwidth": 2,
            "linecolor": "#EBF0F8",
            "showbackground": true,
            "ticks": "",
            "zerolinecolor": "#EBF0F8"
           },
           "yaxis": {
            "backgroundcolor": "white",
            "gridcolor": "#DFE8F3",
            "gridwidth": 2,
            "linecolor": "#EBF0F8",
            "showbackground": true,
            "ticks": "",
            "zerolinecolor": "#EBF0F8"
           },
           "zaxis": {
            "backgroundcolor": "white",
            "gridcolor": "#DFE8F3",
            "gridwidth": 2,
            "linecolor": "#EBF0F8",
            "showbackground": true,
            "ticks": "",
            "zerolinecolor": "#EBF0F8"
           }
          },
          "shapedefaults": {
           "line": {
            "color": "#2a3f5f"
           }
          },
          "ternary": {
           "aaxis": {
            "gridcolor": "#DFE8F3",
            "linecolor": "#A2B1C6",
            "ticks": ""
           },
           "baxis": {
            "gridcolor": "#DFE8F3",
            "linecolor": "#A2B1C6",
            "ticks": ""
           },
           "bgcolor": "white",
           "caxis": {
            "gridcolor": "#DFE8F3",
            "linecolor": "#A2B1C6",
            "ticks": ""
           }
          },
          "title": {
           "x": 0.05
          },
          "xaxis": {
           "automargin": true,
           "gridcolor": "#EBF0F8",
           "linecolor": "#EBF0F8",
           "ticks": "",
           "title": {
            "standoff": 15
           },
           "zerolinecolor": "#EBF0F8",
           "zerolinewidth": 2
          },
          "yaxis": {
           "automargin": true,
           "gridcolor": "#EBF0F8",
           "linecolor": "#EBF0F8",
           "ticks": "",
           "title": {
            "standoff": 15
           },
           "zerolinecolor": "#EBF0F8",
           "zerolinewidth": 2
          }
         }
        },
        "title": {
         "text": "Number of returns error by dataset and AGI band"
        },
        "width": 800,
        "xaxis": {
         "anchor": "y",
         "domain": [
          0,
          1
         ],
         "title": {
          "text": "Band"
         }
        },
        "yaxis": {
         "anchor": "x",
         "domain": [
          0,
          1
         ],
         "tickformat": ".0%",
         "title": {
          "text": "Number of returns error (thousands)"
         }
        }
       }
      }
     },
     "metadata": {},
     "output_type": "display_data"
    }
   ],
   "source": [
    "parameters = cps_sim.tax_benefit_system.parameters(\"2023-01-01\").calibration\n",
    "import numpy as np\n",
    "\n",
    "agi_thresholds = list(\n",
    "    parameters.gov.irs.soi.agi.number_of_returns.thresholds\n",
    ") + [np.inf]\n",
    "num_returns = parameters.gov.irs.soi.agi.number_of_returns.amounts\n",
    "\n",
    "import plotly.express as px\n",
    "\n",
    "band_names = []\n",
    "sources = []\n",
    "values = []\n",
    "\n",
    "cps_agi = cps_sim.calculate(\"adjusted_gross_income\")\n",
    "enhanced_cps_agi = enhanced_cps_sim.calculate(\"adjusted_gross_income\")\n",
    "puf_agi = puf.adjusted_gross_income\n",
    "for i in range(len(agi_thresholds[:-1])):\n",
    "    band_name = f\"{agi_thresholds[i]:,.0f}-{agi_thresholds[i+1]:,.0f}\"\n",
    "\n",
    "    band_names.extend([band_name] * 3)\n",
    "    sources.extend([\"CPS\", \"Enhanced CPS\", \"PUF (2015)\"])\n",
    "\n",
    "    cps_in_band = cps_agi.between(agi_thresholds[i], agi_thresholds[i + 1])\n",
    "    enhanced_cps_in_band = enhanced_cps_agi.between(\n",
    "        agi_thresholds[i], agi_thresholds[i + 1]\n",
    "    )\n",
    "    puf_in_band = puf_agi.between(agi_thresholds[i], agi_thresholds[i + 1])\n",
    "    target = num_returns[i]\n",
    "\n",
    "    values.extend(\n",
    "        [\n",
    "            cps_agi[cps_in_band].count() / target - 1,\n",
    "            enhanced_cps_agi[enhanced_cps_in_band].count() / target - 1,\n",
    "            puf_agi[puf_in_band].count() / target - 1,\n",
    "        ]\n",
    "    )\n",
    "    # values = list(map(abs, values))\n",
    "\n",
    "df = pd.DataFrame(\n",
    "    {\"Band\": band_names, \"Source\": sources, \"Number of returns error\": values}\n",
    ")\n",
    "\n",
    "df[\"Number of returns error\"] /= 1\n",
    "\n",
    "from policyengine_core.charts import format_fig, BLUE, GRAY, DARK_GRAY\n",
    "\n",
    "fig = px.bar(\n",
    "    df,\n",
    "    x=\"Band\",\n",
    "    y=\"Number of returns error\",\n",
    "    color=\"Source\",\n",
    "    barmode=\"group\",\n",
    "    color_discrete_map={\n",
    "        \"CPS\": GRAY,\n",
    "        \"PUF (2015)\": DARK_GRAY,\n",
    "        \"Enhanced CPS\": BLUE,\n",
    "    },\n",
    ")\n",
    "\n",
    "fig.update_layout(\n",
    "    title=\"Number of returns error by dataset and AGI band\",\n",
    "    yaxis_title=\"Number of returns error (thousands)\",\n",
    "    yaxis_tickformat=\".0%\",\n",
    ")\n",
    "\n",
    "format_fig(fig)"
   ]
  },
  {
   "cell_type": "code",
   "execution_count": 10,
   "metadata": {},
   "outputs": [
    {
     "data": {
      "application/vnd.plotly.v1+json": {
       "config": {
        "plotlyServerURL": "https://plot.ly"
       },
       "data": [
        {
         "alignmentgroup": "True",
         "hovertemplate": "Source=CPS<br>Band=%{x}<br>Total AGI error=%{y}<extra></extra>",
         "legendgroup": "CPS",
         "marker": {
          "color": "#BDBDBD",
          "pattern": {
           "shape": ""
          }
         },
         "name": "CPS",
         "offsetgroup": "CPS",
         "orientation": "v",
         "showlegend": true,
         "textposition": "auto",
         "type": "bar",
         "x": [
          "1",
          "5,000",
          "10,000",
          "15,000",
          "20,000",
          "25,000",
          "30,000",
          "40,000",
          "50,000",
          "75,000",
          "100,000",
          "200,000",
          "500,000",
          "1,000,000",
          "1,500,000",
          "2,000,000",
          "5,000,000",
          "10,000,000"
         ],
         "xaxis": "x",
         "y": [
          -0.245753727894246,
          -0.43812285408085616,
          -0.41219121191271,
          -0.309659454820415,
          -0.2023580366985358,
          -0.11462539821127582,
          -0.09908366604688079,
          -0.021592887730219945,
          0.0788382162944079,
          0.062506166668721,
          0.25739757390134566,
          0.3642236728493333,
          -0.0009752566672641683,
          0.7492975826021036,
          -0.7204851459604381,
          -0.8763917385616946,
          -1,
          -1
         ],
         "yaxis": "y"
        },
        {
         "alignmentgroup": "True",
         "hovertemplate": "Source=Enhanced CPS<br>Band=%{x}<br>Total AGI error=%{y}<extra></extra>",
         "legendgroup": "Enhanced CPS",
         "marker": {
          "color": "#2C6496",
          "pattern": {
           "shape": ""
          }
         },
         "name": "Enhanced CPS",
         "offsetgroup": "Enhanced CPS",
         "orientation": "v",
         "showlegend": true,
         "textposition": "auto",
         "type": "bar",
         "x": [
          "1",
          "5,000",
          "10,000",
          "15,000",
          "20,000",
          "25,000",
          "30,000",
          "40,000",
          "50,000",
          "75,000",
          "100,000",
          "200,000",
          "500,000",
          "1,000,000",
          "1,500,000",
          "2,000,000",
          "5,000,000",
          "10,000,000"
         ],
         "xaxis": "x",
         "y": [
          -0.06899866378368291,
          -0.24973945675360043,
          -0.1793780034898388,
          0.04879626233793988,
          0.05030723216442934,
          0.15194466670492934,
          0.04885532514320645,
          0.05131682310688279,
          0.013135621277317489,
          0.04224052300371128,
          0.031126555308844894,
          0.06170571997986718,
          0.21327660717951158,
          0.6129996367167359,
          0.754618508640736,
          0.2970804160862588,
          0.4361290337505914,
          -0.0047557499171703155
         ],
         "yaxis": "y"
        },
        {
         "alignmentgroup": "True",
         "hovertemplate": "Source=PUF (2015)<br>Band=%{x}<br>Total AGI error=%{y}<extra></extra>",
         "legendgroup": "PUF (2015)",
         "marker": {
          "color": "#616161",
          "pattern": {
           "shape": ""
          }
         },
         "name": "PUF (2015)",
         "offsetgroup": "PUF (2015)",
         "orientation": "v",
         "showlegend": true,
         "textposition": "auto",
         "type": "bar",
         "x": [
          "1",
          "5,000",
          "10,000",
          "15,000",
          "20,000",
          "25,000",
          "30,000",
          "40,000",
          "50,000",
          "75,000",
          "100,000",
          "200,000",
          "500,000",
          "1,000,000",
          "1,500,000",
          "2,000,000",
          "5,000,000",
          "10,000,000"
         ],
         "xaxis": "x",
         "y": [
          0.0918729912575813,
          0.15966635528662554,
          0.17497437529616033,
          0.1489978618238521,
          0.03949314086104527,
          -0.06131577105784858,
          -0.09765291036836021,
          -0.09894253249526808,
          -0.10786694106013717,
          -0.1015164188511628,
          -0.17608925917883933,
          -0.2888103538915988,
          -0.2782545590305783,
          -0.2737538638947349,
          -0.2597191169365899,
          -0.25673331585095105,
          -0.2832942617250771,
          -0.7624587165892706
         ],
         "yaxis": "y"
        }
       ],
       "layout": {
        "barmode": "group",
        "font": {
         "color": "black",
         "family": "Roboto Serif"
        },
        "height": 600,
        "images": [
         {
          "sizex": 0.2,
          "sizey": 0.2,
          "source": "https://raw.githubusercontent.com/PolicyEngine/policyengine-app/master/src/images/logos/policyengine/blue.png",
          "x": 1,
          "xanchor": "right",
          "xref": "paper",
          "y": -0.15,
          "yanchor": "bottom",
          "yref": "paper"
         }
        ],
        "legend": {
         "title": {
          "text": "Source"
         },
         "tracegroupgap": 0
        },
        "margin": {
         "t": 60
        },
        "modebar": {
         "bgcolor": "rgba(0,0,0,0)",
         "color": "rgba(0,0,0,0)"
        },
        "template": {
         "data": {
          "bar": [
           {
            "error_x": {
             "color": "#2a3f5f"
            },
            "error_y": {
             "color": "#2a3f5f"
            },
            "marker": {
             "line": {
              "color": "white",
              "width": 0.5
             },
             "pattern": {
              "fillmode": "overlay",
              "size": 10,
              "solidity": 0.2
             }
            },
            "type": "bar"
           }
          ],
          "barpolar": [
           {
            "marker": {
             "line": {
              "color": "white",
              "width": 0.5
             },
             "pattern": {
              "fillmode": "overlay",
              "size": 10,
              "solidity": 0.2
             }
            },
            "type": "barpolar"
           }
          ],
          "carpet": [
           {
            "aaxis": {
             "endlinecolor": "#2a3f5f",
             "gridcolor": "#C8D4E3",
             "linecolor": "#C8D4E3",
             "minorgridcolor": "#C8D4E3",
             "startlinecolor": "#2a3f5f"
            },
            "baxis": {
             "endlinecolor": "#2a3f5f",
             "gridcolor": "#C8D4E3",
             "linecolor": "#C8D4E3",
             "minorgridcolor": "#C8D4E3",
             "startlinecolor": "#2a3f5f"
            },
            "type": "carpet"
           }
          ],
          "choropleth": [
           {
            "colorbar": {
             "outlinewidth": 0,
             "ticks": ""
            },
            "type": "choropleth"
           }
          ],
          "contour": [
           {
            "colorbar": {
             "outlinewidth": 0,
             "ticks": ""
            },
            "colorscale": [
             [
              0,
              "#0d0887"
             ],
             [
              0.1111111111111111,
              "#46039f"
             ],
             [
              0.2222222222222222,
              "#7201a8"
             ],
             [
              0.3333333333333333,
              "#9c179e"
             ],
             [
              0.4444444444444444,
              "#bd3786"
             ],
             [
              0.5555555555555556,
              "#d8576b"
             ],
             [
              0.6666666666666666,
              "#ed7953"
             ],
             [
              0.7777777777777778,
              "#fb9f3a"
             ],
             [
              0.8888888888888888,
              "#fdca26"
             ],
             [
              1,
              "#f0f921"
             ]
            ],
            "type": "contour"
           }
          ],
          "contourcarpet": [
           {
            "colorbar": {
             "outlinewidth": 0,
             "ticks": ""
            },
            "type": "contourcarpet"
           }
          ],
          "heatmap": [
           {
            "colorbar": {
             "outlinewidth": 0,
             "ticks": ""
            },
            "colorscale": [
             [
              0,
              "#0d0887"
             ],
             [
              0.1111111111111111,
              "#46039f"
             ],
             [
              0.2222222222222222,
              "#7201a8"
             ],
             [
              0.3333333333333333,
              "#9c179e"
             ],
             [
              0.4444444444444444,
              "#bd3786"
             ],
             [
              0.5555555555555556,
              "#d8576b"
             ],
             [
              0.6666666666666666,
              "#ed7953"
             ],
             [
              0.7777777777777778,
              "#fb9f3a"
             ],
             [
              0.8888888888888888,
              "#fdca26"
             ],
             [
              1,
              "#f0f921"
             ]
            ],
            "type": "heatmap"
           }
          ],
          "heatmapgl": [
           {
            "colorbar": {
             "outlinewidth": 0,
             "ticks": ""
            },
            "colorscale": [
             [
              0,
              "#0d0887"
             ],
             [
              0.1111111111111111,
              "#46039f"
             ],
             [
              0.2222222222222222,
              "#7201a8"
             ],
             [
              0.3333333333333333,
              "#9c179e"
             ],
             [
              0.4444444444444444,
              "#bd3786"
             ],
             [
              0.5555555555555556,
              "#d8576b"
             ],
             [
              0.6666666666666666,
              "#ed7953"
             ],
             [
              0.7777777777777778,
              "#fb9f3a"
             ],
             [
              0.8888888888888888,
              "#fdca26"
             ],
             [
              1,
              "#f0f921"
             ]
            ],
            "type": "heatmapgl"
           }
          ],
          "histogram": [
           {
            "marker": {
             "pattern": {
              "fillmode": "overlay",
              "size": 10,
              "solidity": 0.2
             }
            },
            "type": "histogram"
           }
          ],
          "histogram2d": [
           {
            "colorbar": {
             "outlinewidth": 0,
             "ticks": ""
            },
            "colorscale": [
             [
              0,
              "#0d0887"
             ],
             [
              0.1111111111111111,
              "#46039f"
             ],
             [
              0.2222222222222222,
              "#7201a8"
             ],
             [
              0.3333333333333333,
              "#9c179e"
             ],
             [
              0.4444444444444444,
              "#bd3786"
             ],
             [
              0.5555555555555556,
              "#d8576b"
             ],
             [
              0.6666666666666666,
              "#ed7953"
             ],
             [
              0.7777777777777778,
              "#fb9f3a"
             ],
             [
              0.8888888888888888,
              "#fdca26"
             ],
             [
              1,
              "#f0f921"
             ]
            ],
            "type": "histogram2d"
           }
          ],
          "histogram2dcontour": [
           {
            "colorbar": {
             "outlinewidth": 0,
             "ticks": ""
            },
            "colorscale": [
             [
              0,
              "#0d0887"
             ],
             [
              0.1111111111111111,
              "#46039f"
             ],
             [
              0.2222222222222222,
              "#7201a8"
             ],
             [
              0.3333333333333333,
              "#9c179e"
             ],
             [
              0.4444444444444444,
              "#bd3786"
             ],
             [
              0.5555555555555556,
              "#d8576b"
             ],
             [
              0.6666666666666666,
              "#ed7953"
             ],
             [
              0.7777777777777778,
              "#fb9f3a"
             ],
             [
              0.8888888888888888,
              "#fdca26"
             ],
             [
              1,
              "#f0f921"
             ]
            ],
            "type": "histogram2dcontour"
           }
          ],
          "mesh3d": [
           {
            "colorbar": {
             "outlinewidth": 0,
             "ticks": ""
            },
            "type": "mesh3d"
           }
          ],
          "parcoords": [
           {
            "line": {
             "colorbar": {
              "outlinewidth": 0,
              "ticks": ""
             }
            },
            "type": "parcoords"
           }
          ],
          "pie": [
           {
            "automargin": true,
            "type": "pie"
           }
          ],
          "scatter": [
           {
            "fillpattern": {
             "fillmode": "overlay",
             "size": 10,
             "solidity": 0.2
            },
            "type": "scatter"
           }
          ],
          "scatter3d": [
           {
            "line": {
             "colorbar": {
              "outlinewidth": 0,
              "ticks": ""
             }
            },
            "marker": {
             "colorbar": {
              "outlinewidth": 0,
              "ticks": ""
             }
            },
            "type": "scatter3d"
           }
          ],
          "scattercarpet": [
           {
            "marker": {
             "colorbar": {
              "outlinewidth": 0,
              "ticks": ""
             }
            },
            "type": "scattercarpet"
           }
          ],
          "scattergeo": [
           {
            "marker": {
             "colorbar": {
              "outlinewidth": 0,
              "ticks": ""
             }
            },
            "type": "scattergeo"
           }
          ],
          "scattergl": [
           {
            "marker": {
             "colorbar": {
              "outlinewidth": 0,
              "ticks": ""
             }
            },
            "type": "scattergl"
           }
          ],
          "scattermapbox": [
           {
            "marker": {
             "colorbar": {
              "outlinewidth": 0,
              "ticks": ""
             }
            },
            "type": "scattermapbox"
           }
          ],
          "scatterpolar": [
           {
            "marker": {
             "colorbar": {
              "outlinewidth": 0,
              "ticks": ""
             }
            },
            "type": "scatterpolar"
           }
          ],
          "scatterpolargl": [
           {
            "marker": {
             "colorbar": {
              "outlinewidth": 0,
              "ticks": ""
             }
            },
            "type": "scatterpolargl"
           }
          ],
          "scatterternary": [
           {
            "marker": {
             "colorbar": {
              "outlinewidth": 0,
              "ticks": ""
             }
            },
            "type": "scatterternary"
           }
          ],
          "surface": [
           {
            "colorbar": {
             "outlinewidth": 0,
             "ticks": ""
            },
            "colorscale": [
             [
              0,
              "#0d0887"
             ],
             [
              0.1111111111111111,
              "#46039f"
             ],
             [
              0.2222222222222222,
              "#7201a8"
             ],
             [
              0.3333333333333333,
              "#9c179e"
             ],
             [
              0.4444444444444444,
              "#bd3786"
             ],
             [
              0.5555555555555556,
              "#d8576b"
             ],
             [
              0.6666666666666666,
              "#ed7953"
             ],
             [
              0.7777777777777778,
              "#fb9f3a"
             ],
             [
              0.8888888888888888,
              "#fdca26"
             ],
             [
              1,
              "#f0f921"
             ]
            ],
            "type": "surface"
           }
          ],
          "table": [
           {
            "cells": {
             "fill": {
              "color": "#EBF0F8"
             },
             "line": {
              "color": "white"
             }
            },
            "header": {
             "fill": {
              "color": "#C8D4E3"
             },
             "line": {
              "color": "white"
             }
            },
            "type": "table"
           }
          ]
         },
         "layout": {
          "annotationdefaults": {
           "arrowcolor": "#2a3f5f",
           "arrowhead": 0,
           "arrowwidth": 1
          },
          "autotypenumbers": "strict",
          "coloraxis": {
           "colorbar": {
            "outlinewidth": 0,
            "ticks": ""
           }
          },
          "colorscale": {
           "diverging": [
            [
             0,
             "#8e0152"
            ],
            [
             0.1,
             "#c51b7d"
            ],
            [
             0.2,
             "#de77ae"
            ],
            [
             0.3,
             "#f1b6da"
            ],
            [
             0.4,
             "#fde0ef"
            ],
            [
             0.5,
             "#f7f7f7"
            ],
            [
             0.6,
             "#e6f5d0"
            ],
            [
             0.7,
             "#b8e186"
            ],
            [
             0.8,
             "#7fbc41"
            ],
            [
             0.9,
             "#4d9221"
            ],
            [
             1,
             "#276419"
            ]
           ],
           "sequential": [
            [
             0,
             "#0d0887"
            ],
            [
             0.1111111111111111,
             "#46039f"
            ],
            [
             0.2222222222222222,
             "#7201a8"
            ],
            [
             0.3333333333333333,
             "#9c179e"
            ],
            [
             0.4444444444444444,
             "#bd3786"
            ],
            [
             0.5555555555555556,
             "#d8576b"
            ],
            [
             0.6666666666666666,
             "#ed7953"
            ],
            [
             0.7777777777777778,
             "#fb9f3a"
            ],
            [
             0.8888888888888888,
             "#fdca26"
            ],
            [
             1,
             "#f0f921"
            ]
           ],
           "sequentialminus": [
            [
             0,
             "#0d0887"
            ],
            [
             0.1111111111111111,
             "#46039f"
            ],
            [
             0.2222222222222222,
             "#7201a8"
            ],
            [
             0.3333333333333333,
             "#9c179e"
            ],
            [
             0.4444444444444444,
             "#bd3786"
            ],
            [
             0.5555555555555556,
             "#d8576b"
            ],
            [
             0.6666666666666666,
             "#ed7953"
            ],
            [
             0.7777777777777778,
             "#fb9f3a"
            ],
            [
             0.8888888888888888,
             "#fdca26"
            ],
            [
             1,
             "#f0f921"
            ]
           ]
          },
          "colorway": [
           "#636efa",
           "#EF553B",
           "#00cc96",
           "#ab63fa",
           "#FFA15A",
           "#19d3f3",
           "#FF6692",
           "#B6E880",
           "#FF97FF",
           "#FECB52"
          ],
          "font": {
           "color": "#2a3f5f"
          },
          "geo": {
           "bgcolor": "white",
           "lakecolor": "white",
           "landcolor": "white",
           "showlakes": true,
           "showland": true,
           "subunitcolor": "#C8D4E3"
          },
          "hoverlabel": {
           "align": "left"
          },
          "hovermode": "closest",
          "mapbox": {
           "style": "light"
          },
          "paper_bgcolor": "white",
          "plot_bgcolor": "white",
          "polar": {
           "angularaxis": {
            "gridcolor": "#EBF0F8",
            "linecolor": "#EBF0F8",
            "ticks": ""
           },
           "bgcolor": "white",
           "radialaxis": {
            "gridcolor": "#EBF0F8",
            "linecolor": "#EBF0F8",
            "ticks": ""
           }
          },
          "scene": {
           "xaxis": {
            "backgroundcolor": "white",
            "gridcolor": "#DFE8F3",
            "gridwidth": 2,
            "linecolor": "#EBF0F8",
            "showbackground": true,
            "ticks": "",
            "zerolinecolor": "#EBF0F8"
           },
           "yaxis": {
            "backgroundcolor": "white",
            "gridcolor": "#DFE8F3",
            "gridwidth": 2,
            "linecolor": "#EBF0F8",
            "showbackground": true,
            "ticks": "",
            "zerolinecolor": "#EBF0F8"
           },
           "zaxis": {
            "backgroundcolor": "white",
            "gridcolor": "#DFE8F3",
            "gridwidth": 2,
            "linecolor": "#EBF0F8",
            "showbackground": true,
            "ticks": "",
            "zerolinecolor": "#EBF0F8"
           }
          },
          "shapedefaults": {
           "line": {
            "color": "#2a3f5f"
           }
          },
          "ternary": {
           "aaxis": {
            "gridcolor": "#DFE8F3",
            "linecolor": "#A2B1C6",
            "ticks": ""
           },
           "baxis": {
            "gridcolor": "#DFE8F3",
            "linecolor": "#A2B1C6",
            "ticks": ""
           },
           "bgcolor": "white",
           "caxis": {
            "gridcolor": "#DFE8F3",
            "linecolor": "#A2B1C6",
            "ticks": ""
           }
          },
          "title": {
           "x": 0.05
          },
          "xaxis": {
           "automargin": true,
           "gridcolor": "#EBF0F8",
           "linecolor": "#EBF0F8",
           "ticks": "",
           "title": {
            "standoff": 15
           },
           "zerolinecolor": "#EBF0F8",
           "zerolinewidth": 2
          },
          "yaxis": {
           "automargin": true,
           "gridcolor": "#EBF0F8",
           "linecolor": "#EBF0F8",
           "ticks": "",
           "title": {
            "standoff": 15
           },
           "zerolinecolor": "#EBF0F8",
           "zerolinewidth": 2
          }
         }
        },
        "title": {
         "text": "Total AGI error by dataset and AGI band"
        },
        "width": 800,
        "xaxis": {
         "anchor": "y",
         "domain": [
          0,
          1
         ],
         "title": {
          "text": "Band"
         }
        },
        "yaxis": {
         "anchor": "x",
         "domain": [
          0,
          1
         ],
         "tickformat": "+.0%",
         "title": {
          "text": "Total AGI error ($bn)"
         }
        }
       }
      }
     },
     "metadata": {},
     "output_type": "display_data"
    }
   ],
   "source": [
    "parameters = cps_sim.tax_benefit_system.parameters(\"2023-01-01\").calibration\n",
    "import numpy as np\n",
    "\n",
    "agi_thresholds = list(parameters.gov.irs.soi.agi.total_agi.thresholds) + [\n",
    "    np.inf\n",
    "]\n",
    "num_returns = parameters.gov.irs.soi.agi.total_agi.amounts\n",
    "\n",
    "import plotly.express as px\n",
    "\n",
    "band_names = []\n",
    "sources = []\n",
    "values = []\n",
    "\n",
    "cps_agi = cps_sim.calculate(\"adjusted_gross_income\")\n",
    "enhanced_cps_agi = enhanced_cps_sim.calculate(\"adjusted_gross_income\")\n",
    "puf_agi = puf.adjusted_gross_income\n",
    "for i in range(len(agi_thresholds[:-1])):\n",
    "    band_name = f\"{agi_thresholds[i]:,.0f}\"\n",
    "\n",
    "    band_names.extend([band_name] * 3)\n",
    "    sources.extend([\"CPS\", \"Enhanced CPS\", \"PUF (2015)\"])\n",
    "\n",
    "    cps_in_band = cps_agi.between(agi_thresholds[i], agi_thresholds[i + 1])\n",
    "    enhanced_cps_in_band = enhanced_cps_agi.between(\n",
    "        agi_thresholds[i], agi_thresholds[i + 1]\n",
    "    )\n",
    "    puf_in_band = puf_agi.between(agi_thresholds[i], agi_thresholds[i + 1])\n",
    "    target = num_returns[i]\n",
    "\n",
    "    values.extend(\n",
    "        [\n",
    "            cps_agi[cps_in_band].sum() / target - 1,\n",
    "            enhanced_cps_agi[enhanced_cps_in_band].sum() / target - 1,\n",
    "            puf_agi[puf_in_band].sum() / target - 1,\n",
    "        ]\n",
    "    )\n",
    "\n",
    "    # values = list(map(abs, values))\n",
    "\n",
    "df = pd.DataFrame(\n",
    "    {\"Band\": band_names, \"Source\": sources, \"Total AGI error\": values}\n",
    ")\n",
    "\n",
    "df[\"Total AGI error\"] /= 1\n",
    "\n",
    "from policyengine_core.charts import format_fig, BLUE, GRAY, DARK_GRAY\n",
    "\n",
    "fig = px.bar(\n",
    "    df,\n",
    "    x=\"Band\",\n",
    "    y=\"Total AGI error\",\n",
    "    color=\"Source\",\n",
    "    barmode=\"group\",\n",
    "    color_discrete_map={\n",
    "        \"CPS\": GRAY,\n",
    "        \"PUF (2015)\": DARK_GRAY,\n",
    "        \"Enhanced CPS\": BLUE,\n",
    "    },\n",
    ")\n",
    "\n",
    "fig.update_layout(\n",
    "    title=\"Total AGI error by dataset and AGI band\",\n",
    "    yaxis_title=\"Total AGI error ($bn)\",\n",
    "    yaxis_tickformat=\"+.0%\",\n",
    ")\n",
    "\n",
    "format_fig(fig)"
   ]
  },
  {
   "cell_type": "code",
   "execution_count": 7,
   "metadata": {},
   "outputs": [],
   "source": [
    "from fiscalsim_us import Microsimulation\n",
    "from policyengine_core.reforms import Reform\n",
    "from policyengine_core.periods import instant\n",
    "import pandas as pd\n",
    "\n",
    "\n",
    "def modify_parameters(parameters):\n",
    "    parameters.gov.irs.income.bracket.rates.children[\"7\"].update(\n",
    "        start=instant(\"2023-01-01\"), stop=instant(\"2028-12-31\"), value=0.5\n",
    "    )\n",
    "    return parameters\n",
    "\n",
    "\n",
    "class reform(Reform):\n",
    "    def apply(self):\n",
    "        self.modify_parameters(modify_parameters)\n",
    "\n",
    "\n",
    "baseline = Microsimulation()\n",
    "reformed = Microsimulation(reform=reform)\n",
    "HOUSEHOLD_VARIABLES = [\n",
    "    \"person_id\",\n",
    "    \"household_id\",\n",
    "    \"age\",\n",
    "    \"household_net_income\",\n",
    "    \"adjusted_gross_income\",\n",
    "    \"employment_income\",\n",
    "    \"household_income_decile\",\n",
    "    \"in_poverty\",\n",
    "    \"household_tax\",\n",
    "    \"household_benefits\",\n",
    "]\n",
    "baseline_person_df = baseline.calculate_dataframe(\n",
    "    HOUSEHOLD_VARIABLES, 2023\n",
    ").astype(float)\n",
    "reformed_person_df = reformed.calculate_dataframe(\n",
    "    HOUSEHOLD_VARIABLES, 2023\n",
    ").astype(float)\n",
    "difference_person_df = reformed_person_df - baseline_person_df"
   ]
  },
  {
   "cell_type": "code",
   "execution_count": null,
   "metadata": {},
   "outputs": [],
   "source": [
    "HOUSEHOLD_VARIABLES = [\n",
    "    \"person_id\",\n",
    "    \"household_id\",\n",
    "    \"age\",\n",
    "    \"household_net_income\",\n",
    "    \"adjusted_gross_income\",\n",
    "    \"employment_income\",\n",
    "    \"household_income_decile\",\n",
    "    \"in_poverty\",\n",
    "    \"household_tax\",\n",
    "    \"household_benefits\",\n",
    "]\n",
    "baseline_person_df = baseline.calculate_dataframe(\n",
    "    HOUSEHOLD_VARIABLES, 2023\n",
    ").astype(float)\n",
    "reformed_person_df = reformed.calculate_dataframe(\n",
    "    HOUSEHOLD_VARIABLES, 2023\n",
    ").astype(float)\n",
    "difference_person_df = reformed_person_df - baseline_person_df\n",
    "\n",
    "baseline_person_df[\"gain\"] = difference_person_df[\"household_net_income\"]"
   ]
  },
  {
   "cell_type": "code",
   "execution_count": null,
   "metadata": {},
   "outputs": [
    {
     "data": {
      "text/html": [
       "<div>\n",
       "<style scoped>\n",
       "    .dataframe tbody tr th:only-of-type {\n",
       "        vertical-align: middle;\n",
       "    }\n",
       "\n",
       "    .dataframe tbody tr th {\n",
       "        vertical-align: top;\n",
       "    }\n",
       "\n",
       "    .dataframe thead th {\n",
       "        text-align: right;\n",
       "    }\n",
       "</style>\n",
       "<table border=\"1\" class=\"dataframe\">\n",
       "  <thead>\n",
       "    <tr style=\"text-align: right;\">\n",
       "      <th></th>\n",
       "      <th>person_id</th>\n",
       "      <th>household_id</th>\n",
       "      <th>age</th>\n",
       "      <th>household_net_income</th>\n",
       "      <th>household_income_decile</th>\n",
       "      <th>in_poverty</th>\n",
       "      <th>household_tax</th>\n",
       "      <th>household_benefits</th>\n",
       "      <th>gain</th>\n",
       "    </tr>\n",
       "  </thead>\n",
       "  <tbody>\n",
       "    <tr>\n",
       "      <th>146135</th>\n",
       "      <td>100000401.0</td>\n",
       "      <td>100000000.0</td>\n",
       "      <td>52.0</td>\n",
       "      <td>-861366.75000</td>\n",
       "      <td>1.0</td>\n",
       "      <td>1.0</td>\n",
       "      <td>2.964205e+06</td>\n",
       "      <td>0.0</td>\n",
       "      <td>-770664.500</td>\n",
       "    </tr>\n",
       "    <tr>\n",
       "      <th>146136</th>\n",
       "      <td>100000402.0</td>\n",
       "      <td>100000000.0</td>\n",
       "      <td>51.0</td>\n",
       "      <td>-861366.75000</td>\n",
       "      <td>1.0</td>\n",
       "      <td>1.0</td>\n",
       "      <td>2.964205e+06</td>\n",
       "      <td>0.0</td>\n",
       "      <td>-770664.500</td>\n",
       "    </tr>\n",
       "    <tr>\n",
       "      <th>146138</th>\n",
       "      <td>100001601.0</td>\n",
       "      <td>100000016.0</td>\n",
       "      <td>65.0</td>\n",
       "      <td>-708258.25000</td>\n",
       "      <td>1.0</td>\n",
       "      <td>1.0</td>\n",
       "      <td>1.596674e+06</td>\n",
       "      <td>43562.0</td>\n",
       "      <td>-389161.750</td>\n",
       "    </tr>\n",
       "    <tr>\n",
       "      <th>146139</th>\n",
       "      <td>100001602.0</td>\n",
       "      <td>100000016.0</td>\n",
       "      <td>68.0</td>\n",
       "      <td>-708258.25000</td>\n",
       "      <td>1.0</td>\n",
       "      <td>1.0</td>\n",
       "      <td>1.596674e+06</td>\n",
       "      <td>43562.0</td>\n",
       "      <td>-389161.750</td>\n",
       "    </tr>\n",
       "    <tr>\n",
       "      <th>146144</th>\n",
       "      <td>100002201.0</td>\n",
       "      <td>100000024.0</td>\n",
       "      <td>63.0</td>\n",
       "      <td>-681460.75000</td>\n",
       "      <td>1.0</td>\n",
       "      <td>1.0</td>\n",
       "      <td>1.072878e+06</td>\n",
       "      <td>0.0</td>\n",
       "      <td>-233571.750</td>\n",
       "    </tr>\n",
       "    <tr>\n",
       "      <th>...</th>\n",
       "      <td>...</td>\n",
       "      <td>...</td>\n",
       "      <td>...</td>\n",
       "      <td>...</td>\n",
       "      <td>...</td>\n",
       "      <td>...</td>\n",
       "      <td>...</td>\n",
       "      <td>...</td>\n",
       "      <td>...</td>\n",
       "    </tr>\n",
       "    <tr>\n",
       "      <th>292105</th>\n",
       "      <td>108893004.0</td>\n",
       "      <td>100088928.0</td>\n",
       "      <td>28.0</td>\n",
       "      <td>-500629.75000</td>\n",
       "      <td>1.0</td>\n",
       "      <td>1.0</td>\n",
       "      <td>1.104709e+06</td>\n",
       "      <td>40867.0</td>\n",
       "      <td>-299445.000</td>\n",
       "    </tr>\n",
       "    <tr>\n",
       "      <th>292106</th>\n",
       "      <td>108893005.0</td>\n",
       "      <td>100088928.0</td>\n",
       "      <td>85.0</td>\n",
       "      <td>-500629.75000</td>\n",
       "      <td>1.0</td>\n",
       "      <td>1.0</td>\n",
       "      <td>1.104709e+06</td>\n",
       "      <td>40867.0</td>\n",
       "      <td>-299445.000</td>\n",
       "    </tr>\n",
       "    <tr>\n",
       "      <th>292107</th>\n",
       "      <td>108893006.0</td>\n",
       "      <td>100088928.0</td>\n",
       "      <td>75.0</td>\n",
       "      <td>-500629.75000</td>\n",
       "      <td>1.0</td>\n",
       "      <td>0.0</td>\n",
       "      <td>1.104709e+06</td>\n",
       "      <td>40867.0</td>\n",
       "      <td>-299445.000</td>\n",
       "    </tr>\n",
       "    <tr>\n",
       "      <th>292114</th>\n",
       "      <td>108893401.0</td>\n",
       "      <td>100088936.0</td>\n",
       "      <td>58.0</td>\n",
       "      <td>-32869.34375</td>\n",
       "      <td>1.0</td>\n",
       "      <td>1.0</td>\n",
       "      <td>4.075813e+05</td>\n",
       "      <td>0.0</td>\n",
       "      <td>-65146.625</td>\n",
       "    </tr>\n",
       "    <tr>\n",
       "      <th>292115</th>\n",
       "      <td>108893402.0</td>\n",
       "      <td>100088936.0</td>\n",
       "      <td>55.0</td>\n",
       "      <td>-32869.34375</td>\n",
       "      <td>1.0</td>\n",
       "      <td>1.0</td>\n",
       "      <td>4.075813e+05</td>\n",
       "      <td>0.0</td>\n",
       "      <td>-65146.625</td>\n",
       "    </tr>\n",
       "  </tbody>\n",
       "</table>\n",
       "<p>8834 rows × 9 columns</p>\n",
       "</div>"
      ],
      "text/plain": [
       "          person_id  household_id   age  household_net_income  \\\n",
       "146135  100000401.0   100000000.0  52.0         -861366.75000   \n",
       "146136  100000402.0   100000000.0  51.0         -861366.75000   \n",
       "146138  100001601.0   100000016.0  65.0         -708258.25000   \n",
       "146139  100001602.0   100000016.0  68.0         -708258.25000   \n",
       "146144  100002201.0   100000024.0  63.0         -681460.75000   \n",
       "...             ...           ...   ...                   ...   \n",
       "292105  108893004.0   100088928.0  28.0         -500629.75000   \n",
       "292106  108893005.0   100088928.0  85.0         -500629.75000   \n",
       "292107  108893006.0   100088928.0  75.0         -500629.75000   \n",
       "292114  108893401.0   100088936.0  58.0          -32869.34375   \n",
       "292115  108893402.0   100088936.0  55.0          -32869.34375   \n",
       "\n",
       "        household_income_decile  in_poverty  household_tax  \\\n",
       "146135                      1.0         1.0   2.964205e+06   \n",
       "146136                      1.0         1.0   2.964205e+06   \n",
       "146138                      1.0         1.0   1.596674e+06   \n",
       "146139                      1.0         1.0   1.596674e+06   \n",
       "146144                      1.0         1.0   1.072878e+06   \n",
       "...                         ...         ...            ...   \n",
       "292105                      1.0         1.0   1.104709e+06   \n",
       "292106                      1.0         1.0   1.104709e+06   \n",
       "292107                      1.0         0.0   1.104709e+06   \n",
       "292114                      1.0         1.0   4.075813e+05   \n",
       "292115                      1.0         1.0   4.075813e+05   \n",
       "\n",
       "        household_benefits        gain  \n",
       "146135                 0.0 -770664.500  \n",
       "146136                 0.0 -770664.500  \n",
       "146138             43562.0 -389161.750  \n",
       "146139             43562.0 -389161.750  \n",
       "146144                 0.0 -233571.750  \n",
       "...                    ...         ...  \n",
       "292105             40867.0 -299445.000  \n",
       "292106             40867.0 -299445.000  \n",
       "292107             40867.0 -299445.000  \n",
       "292114                 0.0  -65146.625  \n",
       "292115                 0.0  -65146.625  \n",
       "\n",
       "[8834 rows x 9 columns]"
      ]
     },
     "execution_count": 6,
     "metadata": {},
     "output_type": "execute_result"
    }
   ],
   "source": [
    "baseline_person_df[baseline_person_df.gain < 0][\n",
    "    baseline_person_df.household_net_income < 0\n",
    "]"
   ]
  }
 ],
 "metadata": {
  "kernelspec": {
   "display_name": "base",
   "language": "python",
   "name": "python3"
  },
  "language_info": {
   "codemirror_mode": {
    "name": "ipython",
    "version": 3
   },
   "file_extension": ".py",
   "mimetype": "text/x-python",
   "name": "python",
   "nbconvert_exporter": "python",
   "pygments_lexer": "ipython3",
   "version": "3.9.12"
  },
  "orig_nbformat": 4
 },
 "nbformat": 4,
 "nbformat_minor": 2
}
