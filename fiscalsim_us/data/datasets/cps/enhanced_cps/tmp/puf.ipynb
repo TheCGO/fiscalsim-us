{
 "cells": [
  {
   "cell_type": "markdown",
   "metadata": {},
   "source": [
    "# PUF data enhancement of the CPS\n",
    "\n",
    "## Step 1: Filling in missing PUF demographic data"
   ]
  },
  {
   "cell_type": "code",
   "execution_count": 15,
   "metadata": {},
   "outputs": [
    {
     "name": "stdout",
     "output_type": "stream",
     "text": [
      "Uprating employment income by 47% (5% per year)\n",
      "Uprating self-employment income by 34% (4% per year)\n",
      "Uprating partnership/S-corp income by 48% (5% per year)\n",
      "Uprating farm income by 17% (2% per year)\n",
      "Uprating farm rental income by 27% (3% per year)\n",
      "Uprating short-term capital gains by 19% (2% per year)\n",
      "Uprating long-term capital gains by 105% (9% per year)\n",
      "Uprating taxable interest income by 68% (7% per year)\n",
      "Uprating tax-exempt interest income by 22% (2% per year)\n",
      "Uprating rental income by 28% (3% per year)\n",
      "Uprating qualified dividend income by 47% (5% per year)\n",
      "Uprating non-qualified dividend income by 36% (4% per year)\n",
      "Uprating taxable pension income by 45% (5% per year)\n",
      "Uprating Social Security by 57% (6% per year)\n"
     ]
    }
   ],
   "source": [
    "import pandas as pd\n",
    "import numpy as np\n",
    "import plotly.express as px\n",
    "from policyengine_core.charts import format_fig, BLUE, GRAY\n",
    "from microdf import MicroDataFrame\n",
    "from survey_enhance import Imputation\n",
    "\n",
    "puf = pd.read_csv(\"~/Downloads/puf_2015.csv\")\n",
    "demographics = pd.read_csv(\"~/Downloads/demographics_2015.csv\")\n",
    "\n",
    "puf = puf.dropna()\n",
    "demographics = demographics.dropna()\n",
    "\n",
    "puf.S006 = puf.S006 / 100\n",
    "\n",
    "codebook = {\n",
    "    \"E00200\": \"employment_income\",\n",
    "    \"E00300\": \"interest_received\",\n",
    "    \"E00400\": \"tax_exempt_interest_income\",\n",
    "    \"E00600\": \"dividends_included_in_agi\",\n",
    "    \"E00650\": \"qualified_dividend_income\",\n",
    "    \"E00700\": \"state_income_tax_refunds\",\n",
    "    \"E00800\": \"alimony_received\",\n",
    "    \"E00900\": \"self_employment_income\",\n",
    "    \"E01000\": \"net_capital_gain_loss\",\n",
    "    \"E01100\": \"capital_gain_distributions\",\n",
    "    \"E01200\": \"other_gains_loss\",\n",
    "    \"E01400\": \"taxable_ira_distribution\",\n",
    "    \"E01500\": \"total_pensions_annuities_received\",\n",
    "    \"E01700\": \"taxable_pension_income\",\n",
    "    \"E02000\": \"schedule_e_net_income_loss\",\n",
    "    \"E02100\": \"schedule_f_net_profit_loss\",\n",
    "    \"E02300\": \"unemployment_compensation_in_agi\",\n",
    "    \"E02400\": \"social_security\",\n",
    "    \"E02500\": \"social_security_benefits_in_agi\",\n",
    "    \"E03150\": \"total_deductible_ira_payments\",\n",
    "    \"E03210\": \"student_loan_interest_deduction\",\n",
    "    \"E03220\": \"educator_expenses\",\n",
    "    \"E03230\": \"tuition_fees_deduction\",\n",
    "    \"E03260\": \"self_employment_tax_deduction\",\n",
    "    \"E03270\": \"self_employed_health_insurance_deduction\",\n",
    "    \"E03240\": \"domestic_production_activities_deduction\",\n",
    "    \"E03290\": \"health_savings_account_deduction\",\n",
    "    \"E03300\": \"payments_to_keogh_accounts\",\n",
    "    \"E03400\": \"forfeited_interest_penalty\",\n",
    "    \"E03500\": \"alimony_paid\",\n",
    "    \"E00100\": \"adjusted_gross_income\",\n",
    "    \"P04470\": \"total_deductions_standard_itemized\",\n",
    "    \"E04600\": \"exemption_amount\",\n",
    "    \"E04800\": \"taxable_income\",\n",
    "    \"E05100\": \"tax_on_taxable_income\",\n",
    "    \"E05200\": \"computed_regular_tax\",\n",
    "    \"E05800\": \"income_tax_before_credits\",\n",
    "    \"E06000\": \"income_subject_to_tax\",\n",
    "    \"E06200\": \"marginal_tax_base\",\n",
    "    \"E06300\": \"tax_generated_tax_rate_tables\",\n",
    "    \"E09600\": \"alternative_minimum_tax\",\n",
    "    \"E07180\": \"child_dependent_care_credit\",\n",
    "    \"E07200\": \"elderly_disabled_credit\",\n",
    "    \"E07220\": \"child_tax_credit\",\n",
    "    \"E07230\": \"education_credits\",\n",
    "    \"E07240\": \"retirement_savings_credit\",\n",
    "    \"E07260\": \"residential_energy_credit\",\n",
    "    \"E07300\": \"foreign_tax_credit\",\n",
    "    \"E07400\": \"general_business_credit\",\n",
    "    \"E07600\": \"credit_prior_year_minimum_tax\",\n",
    "    \"P08000\": \"other_tax_credits\",\n",
    "    \"E07150\": \"total_tax_credit_soi\",\n",
    "    \"E06500\": \"total_income_tax\",\n",
    "    \"E08800\": \"income_tax_after_credits_soi\",\n",
    "    \"E09400\": \"self_employment_tax\",\n",
    "    \"E09700\": \"recapture_taxes\",\n",
    "    \"E09730\": \"total_additional_medicare_tax\",\n",
    "    \"E09740\": \"net_investment_income_tax\",\n",
    "    \"E09750\": \"health_care_individual_responsibility_payment\",\n",
    "    \"E09800\": \"social_security_tax_tip_income\",\n",
    "    \"E09900\": \"penalty_tax_ira\",\n",
    "    \"E10300\": \"total_tax_liability_soi\",\n",
    "    \"E10700\": \"income_tax_withheld\",\n",
    "    \"E10900\": \"estimated_tax_payments\",\n",
    "    \"E10960\": \"refundable_american_opportunity_credit\",\n",
    "    \"E59560\": \"earned_income_eic\",\n",
    "    \"E59680\": \"eic_offset_income_tax_before_credits\",\n",
    "    \"E59700\": \"eic_offset_other_taxes_except_advance_eic\",\n",
    "    \"E59720\": \"eic_refundable_portion\",\n",
    "    \"E11550\": \"refundable_prior_year_minimum_tax_credit\",\n",
    "    \"E11560\": \"net_premium_tax_credit\",\n",
    "    \"E11561\": \"net_premium_tax_credit_offset_income_tax_before_credits\",\n",
    "    \"E11562\": \"net_premium_tax_credit_offset_other_taxes\",\n",
    "    \"E11563\": \"net_premium_tax_credit_refundable_portion\",\n",
    "    \"E11070\": \"additional_child_tax_credit\",\n",
    "    \"E11100\": \"amount_paid_form_4868_request_extension\",\n",
    "    \"E11200\": \"excess_fica_rrta\",\n",
    "    \"E11300\": \"credit_federal_tax_special_fuels_oils\",\n",
    "    \"E11400\": \"regulated_investment_company_credit\",\n",
    "    \"E11601\": \"total_refundable_credits_offset_income_tax_before_credits\",\n",
    "    \"E11602\": \"total_refundable_credits_offset_other_taxes\",\n",
    "    \"E11603\": \"total_refundable_credits_refundable_parts\",\n",
    "    \"E10605\": \"total_tax_payments_soi\",\n",
    "    \"E11900\": \"balance_due_overpayment\",\n",
    "    \"E12000\": \"credit_elect\",\n",
    "    \"E12200\": \"predetermined_estimated_tax_penalty\",\n",
    "    \"E17500\": \"medical_dental_expenses_reduction_agi_limit\",\n",
    "    \"E18400\": \"state_local_taxes\",\n",
    "    \"E18500\": \"real_estate_tax_deductions\",\n",
    "    \"E19200\": \"total_interest_paid_deduction\",\n",
    "    \"E19550\": \"qualified_mortgage_insurance_premiums\",\n",
    "    \"E19800\": \"cash_contributions\",\n",
    "    \"E20100\": \"other_than_cash_contributions\",\n",
    "    \"E19700\": \"contributions_deduction_total\",\n",
    "    \"E20550\": \"unreimbursed_employee_business_expense\",\n",
    "    \"E20600\": \"tax_preparation_fee\",\n",
    "    \"E20400\": \"miscellaneous_deductions_agi_limitation_total\",\n",
    "    \"E20800\": \"net_limited_miscellaneous_deductions\",\n",
    "    \"E20500\": \"net_casualty_theft_loss\",\n",
    "    \"E21040\": \"itemized_deduction_limitation\",\n",
    "    \"P22250\": \"short_term_capital_gains\",\n",
    "    \"E22320\": \"long_term_capital_gains_1\",\n",
    "    \"E22370\": \"schedule_d_capital_gain_distributions\",\n",
    "    \"P23250\": \"long_term_capital_gains\",\n",
    "    \"E24515\": \"unrecaptured_section_1250_gain\",\n",
    "    \"E24516\": \"capital_gain_less_investment_expense\",\n",
    "    \"E24518\": \"28_percent_rate_gain_loss\",\n",
    "    \"E24560\": \"non_schedule_d_tax\",\n",
    "    \"E24598\": \"schedule_d_15_percent_tax_amount\",\n",
    "    \"E24615\": \"schedule_d_25_percent_tax_amount\",\n",
    "    \"E24570\": \"schedule_d_28_percent_tax_amount\",\n",
    "    \"P25350\": \"rental_income\",\n",
    "    \"P25380\": \"rent_royalty_interest_expenses\",\n",
    "    \"E25550\": \"total_depreciation_depletion_all_property\",\n",
    "    \"P25700\": \"rent_royalty_net_income_loss\",\n",
    "    \"E25820\": \"deductible_rental_loss\",\n",
    "    \"E25850\": \"rent_royalty_net_income\",\n",
    "    \"E25860\": \"rent_royalty_net_loss\",\n",
    "    \"E25940\": \"total_passive_income_partnerships\",\n",
    "    \"E25980\": \"total_non_passive_income_partnerships\",\n",
    "    \"E25920\": \"total_passive_loss_partnerships\",\n",
    "    \"E25960\": \"total_non_passive_loss_partnerships\",\n",
    "    \"E26110\": \"partnership_section_179_expense_deduction\",\n",
    "    \"E26170\": \"total_passive_income_small_business_corp\",\n",
    "    \"E26190\": \"total_non_passive_income_small_business_corp\",\n",
    "    \"E26160\": \"total_passive_loss_small_business_corp\",\n",
    "    \"E26180\": \"total_non_passive_loss_small_business_corp\",\n",
    "    \"E26270\": \"partnership_s_corp_income\",\n",
    "    \"E26100\": \"s_corp_section_179_expense_deduction\",\n",
    "    \"E26390\": \"total_income_estate_trust\",\n",
    "    \"E26400\": \"total_loss_estate_trust\",\n",
    "    \"E27200\": \"farm_rent_income\",\n",
    "    \"E30400\": \"self_employment_income_ss_tax_primary\",\n",
    "    \"E30500\": \"self_employment_income_ss_tax_secondary\",\n",
    "    \"E32800\": \"qualifying_individuals_expenses_form_2441\",\n",
    "    \"E33000\": \"expenses_limited_to_earned_income_form_2441\",\n",
    "    \"E53240\": \"work_opportunity_jobs_general_business_credit\",\n",
    "    \"E53280\": \"research_experimentation_general_business_credit\",\n",
    "    \"E53300\": \"low_income_housing_credit\",\n",
    "    \"E53317\": \"employer_credit_social_security_tax_tips\",\n",
    "    \"E58950\": \"total_investment_interest_expense_form_4952\",\n",
    "    \"E58990\": \"investment_income_elected_amount_form_4952\",\n",
    "    \"P60100\": \"net_operating_loss_tax_preference_adjustments_form_6251\",\n",
    "    \"P61850\": \"total_adjustments_preferences_form_6251\",\n",
    "    \"E60000\": \"taxable_income_amt_form_6251\",\n",
    "    \"E62100\": \"alternative_minimum_taxable_income\",\n",
    "    \"E62900\": \"alternative_tax_foreign_tax_credit\",\n",
    "    \"E62720\": \"alternative_minimum_schedule_d_less_investment_interest\",\n",
    "    \"E62730\": \"alternative_minimum_schedule_d_unrecaptured_section_1250_gain\",\n",
    "    \"E62740\": \"alternative_minimum_capital_gain_amount\",\n",
    "    \"P65300\": \"total_passive_net_income_form_8582\",\n",
    "    \"P65400\": \"total_passive_losses_form_8582\",\n",
    "    \"E68000\": \"total_losses_allowed_passive_activities\",\n",
    "    \"E82200\": \"carry_forward_minimum_tax_credit_form_8801\",\n",
    "    \"T27800\": \"farm_income\",\n",
    "    \"S27860\": \"tentative_current_prior_year_tax_schedule_j\",\n",
    "    \"P27895\": \"actual_prior_year_tax_schedule_j\",\n",
    "    \"P87482\": \"american_opportunity_qualified_expenses_form_8863\",\n",
    "    \"E87521\": \"american_opportunity_credit\",\n",
    "    \"E87530\": \"lifetime_learning_total_qualified_expenses\",\n",
    "    \"E87550\": \"lifetime_learning_credit\",\n",
    "    \"P86421\": \"bond_purchase_amount_form_8888\",\n",
    "    \"E85050\": \"total_rental_real_estate_royalties_partnerships_s_corps_trusts\",\n",
    "    \"E85090\": \"total_net_gain_loss_disposition_property\",\n",
    "    \"E85120\": \"total_investment_income\",\n",
    "    \"E85180\": \"total_deductions_modifications\",\n",
    "    \"E85570\": \"dependents_modified_adjusted_gross_income_amount_form_8962\",\n",
    "    \"E85595\": \"annual_contribution_health_care_amount\",\n",
    "    \"E85600\": \"monthly_contribution_health_care_amount\",\n",
    "    \"E85770\": \"total_premium_tax_credit_amount\",\n",
    "    \"E85775\": \"advance_premium_tax_credit_amount\",\n",
    "    \"E85785\": \"excess_advance_payment_premium_tax_credit\",\n",
    "    \"E85790\": \"repayment_limitation_amount\",\n",
    "    \"RECID\": \"return_id\",\n",
    "    \"S006\": \"decimal_weight\",\n",
    "    \"S008\": \"sample_count\",\n",
    "    \"S009\": \"population_count\",\n",
    "    \"WSAMP\": \"sample_code\",\n",
    "    \"TXRT\": \"marginal_tax_rate\",\n",
    "}\n",
    "\n",
    "codebook.update(\n",
    "    {\n",
    "        \"AGIR1\": \"adjusted_gross_income_band\",\n",
    "        \"CLAIM8965\": \"health_coverage_exemptions\",\n",
    "        \"DSI\": \"dependent_status_indicator\",\n",
    "        \"EFI\": \"electronic_filing_indicator\",\n",
    "        \"EIC\": \"earned_income_credit_code\",\n",
    "        \"ELECT\": \"presidential_election_campaign_fund_boxes\",\n",
    "        \"FDED\": \"form_of_deduction_code\",\n",
    "        \"FLPDYR\": \"filing_accounting_period_year\",\n",
    "        \"FLPDMO\": \"filing_accounting_period_month\",\n",
    "        \"F2441\": \"form_2441_child_care_credit_qualified_individual\",\n",
    "        \"F3800\": \"form_3800_general_business_credit\",\n",
    "        \"F6251\": \"form_6251_alternative_minimum_tax\",\n",
    "        \"F8582\": \"form_8582_passive_activity_loss_limitation\",\n",
    "        \"F8606\": \"form_8606_nondeductible_ira_contributions\",\n",
    "        \"F8829\": \"form_8829_expenses_home_business_use\",\n",
    "        \"F8867\": \"form_8867_paid_preparer_earned_income_credit_checklist\",\n",
    "        \"F8949\": \"form_8949_sales_dispositions_capital_assets\",\n",
    "        \"F8959\": \"form_8959_additional_medicare_tax\",\n",
    "        \"F8960\": \"form_8960_net_investment_income_tax\",\n",
    "        \"F8962\": \"form_8962_premium_tax_credit\",\n",
    "        \"F8965\": \"form_8965_health_coverage_exemptions\",\n",
    "        \"IE\": \"itemized_deductions_election_indicator\",\n",
    "        \"MARS\": \"marital_filing_status\",\n",
    "        \"MIDR\": \"married_filing_separately_itemized_deductions_requirement_indicator\",\n",
    "        \"N24\": \"number_children_child_tax_credit\",\n",
    "        \"N25\": \"number_qualified_students_lifetime_learning_credit\",\n",
    "        \"N30\": \"number_qualified_students_american_opportunity_credit\",\n",
    "        \"PREP\": \"tax_preparer\",\n",
    "        \"PREMNTHS\": \"months_enrolled_health_insurance_marketplace\",\n",
    "        \"SCHB\": \"schedule_b_indicator\",\n",
    "        \"SCHCF\": \"schedule_c_or_f_indicator\",\n",
    "        \"SCHE\": \"schedule_e_indicator\",\n",
    "        \"TFORM\": \"form_of_return\",\n",
    "        \"TXST\": \"tax_status\",\n",
    "        \"XFPT\": \"primary_taxpayer_exemption\",\n",
    "        \"XFST\": \"secondary_taxpayer_exemption\",\n",
    "        \"XOCAH\": \"exemptions_children_living_at_home\",\n",
    "        \"XOCAWH\": \"exemptions_children_living_away_from_home\",\n",
    "        \"XOODEP\": \"exemptions_other_dependents\",\n",
    "        \"XOPAR\": \"exemptions_parents_living_at_away_from_home\",\n",
    "        \"XTOT\": \"total_exemptions\",\n",
    "        \"XTOT8962\": \"number_exemptions_form_8962\",\n",
    "        \"XTOT8965\": \"number_exemptions_form_8965\",\n",
    "    }\n",
    ")\n",
    "\n",
    "codebook.update(\n",
    "    {\n",
    "        \"AGEDP1\": \"age_dependent_1\",\n",
    "        \"AGEDP2\": \"age_dependent_2\",\n",
    "        \"AGEDP3\": \"age_dependent_3\",\n",
    "        \"AGERANGE\": \"age_range_primary_filer\",\n",
    "        \"EARNSPLIT\": \"earnings_split_joint_returns\",\n",
    "        \"GENDER\": \"gender_primary_filer\",\n",
    "        \"RECID\": \"return_id\",\n",
    "    }\n",
    ")\n",
    "\n",
    "\n",
    "puf[\"taxable_interest_income\"] = (\n",
    "    puf.E00300 - puf.E00400\n",
    ")  # Taxable interest income = interest received - tax-exempt interest income\n",
    "puf[\"non_qualified_dividend_income\"] = (\n",
    "    puf.E00600 - puf.E00650\n",
    ")  # Non-qualified dividend income = dividends included in AGI - qualified dividend income\n",
    "\n",
    "puf_with_demographics = puf[puf.RECID.isin(demographics.RECID)].merge(\n",
    "    demographics, on=\"RECID\"\n",
    ")\n",
    "\n",
    "puf_renamed = puf.rename(columns=codebook)\n",
    "\n",
    "puf_with_demographics = puf_with_demographics.rename(columns=codebook)\n",
    "\n",
    "from survey_enhance import Imputation\n",
    "\n",
    "demographics_from_puf = Imputation()\n",
    "\n",
    "DEMOGRAPHIC_VARIABLES = [\n",
    "    \"age_dependent_1\",\n",
    "    \"age_dependent_2\",\n",
    "    \"age_dependent_3\",\n",
    "    \"age_range_primary_filer\",\n",
    "    \"earnings_split_joint_returns\",\n",
    "    \"gender_primary_filer\",\n",
    "]\n",
    "\n",
    "FINANCIAL_VARIABLES = [\n",
    "    column\n",
    "    for column in puf_renamed.columns\n",
    "    if column\n",
    "    not in DEMOGRAPHIC_VARIABLES\n",
    "    + [\n",
    "        \"return_id\",\n",
    "        \"decimal_weight\",\n",
    "        \"sample_count\",\n",
    "        \"population_count\",\n",
    "        \"sample_code\",\n",
    "    ]\n",
    "]\n",
    "\n",
    "FINANCIAL_SUBSET = [\n",
    "    \"employment_income\",\n",
    "    \"self_employment_income\",\n",
    "    \"partnership_s_corp_income\",\n",
    "    \"farm_income\",\n",
    "    \"farm_rent_income\",\n",
    "    \"short_term_capital_gains\",\n",
    "    \"long_term_capital_gains\",\n",
    "    \"taxable_interest_income\",\n",
    "    \"tax_exempt_interest_income\",\n",
    "    \"rental_income\",\n",
    "    \"qualified_dividend_income\",\n",
    "    \"non_qualified_dividend_income\",\n",
    "    \"taxable_pension_income\",\n",
    "    \"social_security\",\n",
    "]\n",
    "\n",
    "from fiscalsim_us.system import system\n",
    "\n",
    "soi = system.parameters.calibration.gov.irs.soi\n",
    "\n",
    "# Uprate the financial subset\n",
    "\n",
    "for variable_name in FINANCIAL_SUBSET:\n",
    "    value_in_2015 = soi.children[variable_name](\"2015-01-01\")\n",
    "    value_in_2023 = soi.children[variable_name](\"2023-01-01\")\n",
    "    uprating_factor = value_in_2023 / value_in_2015\n",
    "    annualised_uprating_factor = uprating_factor ** (1 / 8)\n",
    "    print(\n",
    "        f\"Uprating {system.variables[variable_name].label} by {uprating_factor - 1:.0%} ({annualised_uprating_factor - 1:.0%} per year)\"\n",
    "    )\n",
    "    puf_with_demographics[variable_name] = (\n",
    "        puf_with_demographics[variable_name] * uprating_factor\n",
    "    )\n",
    "\n",
    "demographics_from_puf.train(\n",
    "    puf_with_demographics[FINANCIAL_VARIABLES],\n",
    "    puf_with_demographics[DEMOGRAPHIC_VARIABLES],\n",
    ")\n",
    "\n",
    "puf_without_demographics = (\n",
    "    puf[~puf.RECID.isin(demographics.RECID)]\n",
    "    .rename(columns=codebook)\n",
    "    .reset_index()\n",
    ")\n",
    "puf_without_demographics.marital_filing_status = (\n",
    "    puf_without_demographics.marital_filing_status.replace(\n",
    "        {\n",
    "            0: 1,\n",
    "        }\n",
    "    )\n",
    ")  # Aggregated returns -> single\n",
    "predicted_demographics = demographics_from_puf.predict(\n",
    "    puf_without_demographics[FINANCIAL_VARIABLES]\n",
    ")\n",
    "puf_with_imputed_demographics = pd.concat(\n",
    "    [puf_without_demographics, predicted_demographics], axis=1\n",
    ")\n",
    "\n",
    "weighted_puf_with_demographics = MicroDataFrame(\n",
    "    puf_with_demographics, weights=\"decimal_weight\"\n",
    ")\n",
    "weighted_puf_with_imputed_demographics = MicroDataFrame(\n",
    "    puf_with_imputed_demographics, weights=\"decimal_weight\"\n",
    ")\n",
    "\n",
    "puf_combined = pd.concat(\n",
    "    [weighted_puf_with_demographics, weighted_puf_with_imputed_demographics]\n",
    ")\n",
    "puf_combined = MicroDataFrame(puf_combined, weights=\"decimal_weight\")\n",
    "\n",
    "puf_combined.to_csv(\n",
    "    \"puf_full_demographics.csv.gz\", index=False, compression=\"gzip\"\n",
    ")\n",
    "\n",
    "# Uprate average amounts"
   ]
  },
  {
   "cell_type": "markdown",
   "metadata": {},
   "source": [
    "Now, to plot a chart showing the difference between the imputed and non-imputed demographic characteristic records."
   ]
  },
  {
   "cell_type": "code",
   "execution_count": 2,
   "metadata": {},
   "outputs": [
    {
     "data": {
      "application/vnd.plotly.v1+json": {
       "config": {
        "plotlyServerURL": "https://plot.ly"
       },
       "data": [
        {
         "alignmentgroup": "True",
         "hovertemplate": "Source=Training<br>Value=%{x}<br>Variable=%{y}<br>text=%{text}<extra></extra>",
         "legendgroup": "Training",
         "marker": {
          "color": "#BDBDBD",
          "pattern": {
           "shape": ""
          }
         },
         "name": "Training",
         "offsetgroup": "Training",
         "orientation": "h",
         "showlegend": true,
         "text": [
          "0.2",
          "0.4",
          "0.4",
          "0.5",
          "0.8",
          "1.4",
          "3.5",
          "6,582.7",
          "53,098.5"
         ],
         "textposition": "auto",
         "type": "bar",
         "x": [
          0.15876491469561888,
          0.4426939587150923,
          0.4482701311906943,
          0.5186609580291247,
          0.8090903381444285,
          1.380953404849433,
          3.4579384011485166,
          6582.697597473246,
          53098.48414744844
         ],
         "xaxis": "x",
         "y": [
          "age_dependent_3",
          "number_children_child_tax_credit",
          "age_dependent_2",
          "earnings_split_joint_returns",
          "age_dependent_1",
          "gender_primary_filer",
          "age_range_primary_filer",
          "total_pensions_annuities_received",
          "adjusted_gross_income"
         ],
         "yaxis": "y"
        },
        {
         "alignmentgroup": "True",
         "hovertemplate": "Source=Imputed<br>Value=%{x}<br>Variable=%{y}<br>text=%{text}<extra></extra>",
         "legendgroup": "Imputed",
         "marker": {
          "color": "#2C6496",
          "pattern": {
           "shape": ""
          }
         },
         "name": "Imputed",
         "offsetgroup": "Imputed",
         "orientation": "h",
         "showlegend": true,
         "text": [
          "0.2",
          "0.5",
          "0.6",
          "0.7",
          "1.3",
          "1.3",
          "4.3",
          "62,201.5",
          "683,054.0"
         ],
         "textposition": "auto",
         "type": "bar",
         "x": [
          0.20614422697086804,
          0.4816627830323708,
          0.6178286464972926,
          0.712161116430349,
          1.2752187358112854,
          1.2805809484388744,
          4.23989181905831,
          62201.48605593363,
          683054.0033706542
         ],
         "xaxis": "x",
         "y": [
          "age_dependent_3",
          "age_dependent_2",
          "number_children_child_tax_credit",
          "age_dependent_1",
          "earnings_split_joint_returns",
          "gender_primary_filer",
          "age_range_primary_filer",
          "total_pensions_annuities_received",
          "adjusted_gross_income"
         ],
         "yaxis": "y"
        }
       ],
       "layout": {
        "barmode": "group",
        "font": {
         "color": "black",
         "family": "Roboto Serif"
        },
        "height": 600,
        "images": [
         {
          "sizex": 0.2,
          "sizey": 0.2,
          "source": "https://raw.githubusercontent.com/PolicyEngine/policyengine-app/master/src/images/logos/policyengine/blue.png",
          "x": 1,
          "xanchor": "right",
          "xref": "paper",
          "y": -0.15,
          "yanchor": "bottom",
          "yref": "paper"
         }
        ],
        "legend": {
         "title": {
          "text": "Subset"
         },
         "tracegroupgap": 0
        },
        "modebar": {
         "bgcolor": "rgba(0,0,0,0)",
         "color": "rgba(0,0,0,0)"
        },
        "template": {
         "data": {
          "bar": [
           {
            "error_x": {
             "color": "#2a3f5f"
            },
            "error_y": {
             "color": "#2a3f5f"
            },
            "marker": {
             "line": {
              "color": "white",
              "width": 0.5
             },
             "pattern": {
              "fillmode": "overlay",
              "size": 10,
              "solidity": 0.2
             }
            },
            "type": "bar"
           }
          ],
          "barpolar": [
           {
            "marker": {
             "line": {
              "color": "white",
              "width": 0.5
             },
             "pattern": {
              "fillmode": "overlay",
              "size": 10,
              "solidity": 0.2
             }
            },
            "type": "barpolar"
           }
          ],
          "carpet": [
           {
            "aaxis": {
             "endlinecolor": "#2a3f5f",
             "gridcolor": "#C8D4E3",
             "linecolor": "#C8D4E3",
             "minorgridcolor": "#C8D4E3",
             "startlinecolor": "#2a3f5f"
            },
            "baxis": {
             "endlinecolor": "#2a3f5f",
             "gridcolor": "#C8D4E3",
             "linecolor": "#C8D4E3",
             "minorgridcolor": "#C8D4E3",
             "startlinecolor": "#2a3f5f"
            },
            "type": "carpet"
           }
          ],
          "choropleth": [
           {
            "colorbar": {
             "outlinewidth": 0,
             "ticks": ""
            },
            "type": "choropleth"
           }
          ],
          "contour": [
           {
            "colorbar": {
             "outlinewidth": 0,
             "ticks": ""
            },
            "colorscale": [
             [
              0,
              "#0d0887"
             ],
             [
              0.1111111111111111,
              "#46039f"
             ],
             [
              0.2222222222222222,
              "#7201a8"
             ],
             [
              0.3333333333333333,
              "#9c179e"
             ],
             [
              0.4444444444444444,
              "#bd3786"
             ],
             [
              0.5555555555555556,
              "#d8576b"
             ],
             [
              0.6666666666666666,
              "#ed7953"
             ],
             [
              0.7777777777777778,
              "#fb9f3a"
             ],
             [
              0.8888888888888888,
              "#fdca26"
             ],
             [
              1,
              "#f0f921"
             ]
            ],
            "type": "contour"
           }
          ],
          "contourcarpet": [
           {
            "colorbar": {
             "outlinewidth": 0,
             "ticks": ""
            },
            "type": "contourcarpet"
           }
          ],
          "heatmap": [
           {
            "colorbar": {
             "outlinewidth": 0,
             "ticks": ""
            },
            "colorscale": [
             [
              0,
              "#0d0887"
             ],
             [
              0.1111111111111111,
              "#46039f"
             ],
             [
              0.2222222222222222,
              "#7201a8"
             ],
             [
              0.3333333333333333,
              "#9c179e"
             ],
             [
              0.4444444444444444,
              "#bd3786"
             ],
             [
              0.5555555555555556,
              "#d8576b"
             ],
             [
              0.6666666666666666,
              "#ed7953"
             ],
             [
              0.7777777777777778,
              "#fb9f3a"
             ],
             [
              0.8888888888888888,
              "#fdca26"
             ],
             [
              1,
              "#f0f921"
             ]
            ],
            "type": "heatmap"
           }
          ],
          "heatmapgl": [
           {
            "colorbar": {
             "outlinewidth": 0,
             "ticks": ""
            },
            "colorscale": [
             [
              0,
              "#0d0887"
             ],
             [
              0.1111111111111111,
              "#46039f"
             ],
             [
              0.2222222222222222,
              "#7201a8"
             ],
             [
              0.3333333333333333,
              "#9c179e"
             ],
             [
              0.4444444444444444,
              "#bd3786"
             ],
             [
              0.5555555555555556,
              "#d8576b"
             ],
             [
              0.6666666666666666,
              "#ed7953"
             ],
             [
              0.7777777777777778,
              "#fb9f3a"
             ],
             [
              0.8888888888888888,
              "#fdca26"
             ],
             [
              1,
              "#f0f921"
             ]
            ],
            "type": "heatmapgl"
           }
          ],
          "histogram": [
           {
            "marker": {
             "pattern": {
              "fillmode": "overlay",
              "size": 10,
              "solidity": 0.2
             }
            },
            "type": "histogram"
           }
          ],
          "histogram2d": [
           {
            "colorbar": {
             "outlinewidth": 0,
             "ticks": ""
            },
            "colorscale": [
             [
              0,
              "#0d0887"
             ],
             [
              0.1111111111111111,
              "#46039f"
             ],
             [
              0.2222222222222222,
              "#7201a8"
             ],
             [
              0.3333333333333333,
              "#9c179e"
             ],
             [
              0.4444444444444444,
              "#bd3786"
             ],
             [
              0.5555555555555556,
              "#d8576b"
             ],
             [
              0.6666666666666666,
              "#ed7953"
             ],
             [
              0.7777777777777778,
              "#fb9f3a"
             ],
             [
              0.8888888888888888,
              "#fdca26"
             ],
             [
              1,
              "#f0f921"
             ]
            ],
            "type": "histogram2d"
           }
          ],
          "histogram2dcontour": [
           {
            "colorbar": {
             "outlinewidth": 0,
             "ticks": ""
            },
            "colorscale": [
             [
              0,
              "#0d0887"
             ],
             [
              0.1111111111111111,
              "#46039f"
             ],
             [
              0.2222222222222222,
              "#7201a8"
             ],
             [
              0.3333333333333333,
              "#9c179e"
             ],
             [
              0.4444444444444444,
              "#bd3786"
             ],
             [
              0.5555555555555556,
              "#d8576b"
             ],
             [
              0.6666666666666666,
              "#ed7953"
             ],
             [
              0.7777777777777778,
              "#fb9f3a"
             ],
             [
              0.8888888888888888,
              "#fdca26"
             ],
             [
              1,
              "#f0f921"
             ]
            ],
            "type": "histogram2dcontour"
           }
          ],
          "mesh3d": [
           {
            "colorbar": {
             "outlinewidth": 0,
             "ticks": ""
            },
            "type": "mesh3d"
           }
          ],
          "parcoords": [
           {
            "line": {
             "colorbar": {
              "outlinewidth": 0,
              "ticks": ""
             }
            },
            "type": "parcoords"
           }
          ],
          "pie": [
           {
            "automargin": true,
            "type": "pie"
           }
          ],
          "scatter": [
           {
            "fillpattern": {
             "fillmode": "overlay",
             "size": 10,
             "solidity": 0.2
            },
            "type": "scatter"
           }
          ],
          "scatter3d": [
           {
            "line": {
             "colorbar": {
              "outlinewidth": 0,
              "ticks": ""
             }
            },
            "marker": {
             "colorbar": {
              "outlinewidth": 0,
              "ticks": ""
             }
            },
            "type": "scatter3d"
           }
          ],
          "scattercarpet": [
           {
            "marker": {
             "colorbar": {
              "outlinewidth": 0,
              "ticks": ""
             }
            },
            "type": "scattercarpet"
           }
          ],
          "scattergeo": [
           {
            "marker": {
             "colorbar": {
              "outlinewidth": 0,
              "ticks": ""
             }
            },
            "type": "scattergeo"
           }
          ],
          "scattergl": [
           {
            "marker": {
             "colorbar": {
              "outlinewidth": 0,
              "ticks": ""
             }
            },
            "type": "scattergl"
           }
          ],
          "scattermapbox": [
           {
            "marker": {
             "colorbar": {
              "outlinewidth": 0,
              "ticks": ""
             }
            },
            "type": "scattermapbox"
           }
          ],
          "scatterpolar": [
           {
            "marker": {
             "colorbar": {
              "outlinewidth": 0,
              "ticks": ""
             }
            },
            "type": "scatterpolar"
           }
          ],
          "scatterpolargl": [
           {
            "marker": {
             "colorbar": {
              "outlinewidth": 0,
              "ticks": ""
             }
            },
            "type": "scatterpolargl"
           }
          ],
          "scatterternary": [
           {
            "marker": {
             "colorbar": {
              "outlinewidth": 0,
              "ticks": ""
             }
            },
            "type": "scatterternary"
           }
          ],
          "surface": [
           {
            "colorbar": {
             "outlinewidth": 0,
             "ticks": ""
            },
            "colorscale": [
             [
              0,
              "#0d0887"
             ],
             [
              0.1111111111111111,
              "#46039f"
             ],
             [
              0.2222222222222222,
              "#7201a8"
             ],
             [
              0.3333333333333333,
              "#9c179e"
             ],
             [
              0.4444444444444444,
              "#bd3786"
             ],
             [
              0.5555555555555556,
              "#d8576b"
             ],
             [
              0.6666666666666666,
              "#ed7953"
             ],
             [
              0.7777777777777778,
              "#fb9f3a"
             ],
             [
              0.8888888888888888,
              "#fdca26"
             ],
             [
              1,
              "#f0f921"
             ]
            ],
            "type": "surface"
           }
          ],
          "table": [
           {
            "cells": {
             "fill": {
              "color": "#EBF0F8"
             },
             "line": {
              "color": "white"
             }
            },
            "header": {
             "fill": {
              "color": "#C8D4E3"
             },
             "line": {
              "color": "white"
             }
            },
            "type": "table"
           }
          ]
         },
         "layout": {
          "annotationdefaults": {
           "arrowcolor": "#2a3f5f",
           "arrowhead": 0,
           "arrowwidth": 1
          },
          "autotypenumbers": "strict",
          "coloraxis": {
           "colorbar": {
            "outlinewidth": 0,
            "ticks": ""
           }
          },
          "colorscale": {
           "diverging": [
            [
             0,
             "#8e0152"
            ],
            [
             0.1,
             "#c51b7d"
            ],
            [
             0.2,
             "#de77ae"
            ],
            [
             0.3,
             "#f1b6da"
            ],
            [
             0.4,
             "#fde0ef"
            ],
            [
             0.5,
             "#f7f7f7"
            ],
            [
             0.6,
             "#e6f5d0"
            ],
            [
             0.7,
             "#b8e186"
            ],
            [
             0.8,
             "#7fbc41"
            ],
            [
             0.9,
             "#4d9221"
            ],
            [
             1,
             "#276419"
            ]
           ],
           "sequential": [
            [
             0,
             "#0d0887"
            ],
            [
             0.1111111111111111,
             "#46039f"
            ],
            [
             0.2222222222222222,
             "#7201a8"
            ],
            [
             0.3333333333333333,
             "#9c179e"
            ],
            [
             0.4444444444444444,
             "#bd3786"
            ],
            [
             0.5555555555555556,
             "#d8576b"
            ],
            [
             0.6666666666666666,
             "#ed7953"
            ],
            [
             0.7777777777777778,
             "#fb9f3a"
            ],
            [
             0.8888888888888888,
             "#fdca26"
            ],
            [
             1,
             "#f0f921"
            ]
           ],
           "sequentialminus": [
            [
             0,
             "#0d0887"
            ],
            [
             0.1111111111111111,
             "#46039f"
            ],
            [
             0.2222222222222222,
             "#7201a8"
            ],
            [
             0.3333333333333333,
             "#9c179e"
            ],
            [
             0.4444444444444444,
             "#bd3786"
            ],
            [
             0.5555555555555556,
             "#d8576b"
            ],
            [
             0.6666666666666666,
             "#ed7953"
            ],
            [
             0.7777777777777778,
             "#fb9f3a"
            ],
            [
             0.8888888888888888,
             "#fdca26"
            ],
            [
             1,
             "#f0f921"
            ]
           ]
          },
          "colorway": [
           "#636efa",
           "#EF553B",
           "#00cc96",
           "#ab63fa",
           "#FFA15A",
           "#19d3f3",
           "#FF6692",
           "#B6E880",
           "#FF97FF",
           "#FECB52"
          ],
          "font": {
           "color": "#2a3f5f"
          },
          "geo": {
           "bgcolor": "white",
           "lakecolor": "white",
           "landcolor": "white",
           "showlakes": true,
           "showland": true,
           "subunitcolor": "#C8D4E3"
          },
          "hoverlabel": {
           "align": "left"
          },
          "hovermode": "closest",
          "mapbox": {
           "style": "light"
          },
          "paper_bgcolor": "white",
          "plot_bgcolor": "white",
          "polar": {
           "angularaxis": {
            "gridcolor": "#EBF0F8",
            "linecolor": "#EBF0F8",
            "ticks": ""
           },
           "bgcolor": "white",
           "radialaxis": {
            "gridcolor": "#EBF0F8",
            "linecolor": "#EBF0F8",
            "ticks": ""
           }
          },
          "scene": {
           "xaxis": {
            "backgroundcolor": "white",
            "gridcolor": "#DFE8F3",
            "gridwidth": 2,
            "linecolor": "#EBF0F8",
            "showbackground": true,
            "ticks": "",
            "zerolinecolor": "#EBF0F8"
           },
           "yaxis": {
            "backgroundcolor": "white",
            "gridcolor": "#DFE8F3",
            "gridwidth": 2,
            "linecolor": "#EBF0F8",
            "showbackground": true,
            "ticks": "",
            "zerolinecolor": "#EBF0F8"
           },
           "zaxis": {
            "backgroundcolor": "white",
            "gridcolor": "#DFE8F3",
            "gridwidth": 2,
            "linecolor": "#EBF0F8",
            "showbackground": true,
            "ticks": "",
            "zerolinecolor": "#EBF0F8"
           }
          },
          "shapedefaults": {
           "line": {
            "color": "#2a3f5f"
           }
          },
          "ternary": {
           "aaxis": {
            "gridcolor": "#DFE8F3",
            "linecolor": "#A2B1C6",
            "ticks": ""
           },
           "baxis": {
            "gridcolor": "#DFE8F3",
            "linecolor": "#A2B1C6",
            "ticks": ""
           },
           "bgcolor": "white",
           "caxis": {
            "gridcolor": "#DFE8F3",
            "linecolor": "#A2B1C6",
            "ticks": ""
           }
          },
          "title": {
           "x": 0.05
          },
          "xaxis": {
           "automargin": true,
           "gridcolor": "#EBF0F8",
           "linecolor": "#EBF0F8",
           "ticks": "",
           "title": {
            "standoff": 15
           },
           "zerolinecolor": "#EBF0F8",
           "zerolinewidth": 2
          },
          "yaxis": {
           "automargin": true,
           "gridcolor": "#EBF0F8",
           "linecolor": "#EBF0F8",
           "ticks": "",
           "title": {
            "standoff": 15
           },
           "zerolinecolor": "#EBF0F8",
           "zerolinewidth": 2
          }
         }
        },
        "title": {
         "text": "PUF characteristics with and without recorded demographics"
        },
        "width": 800,
        "xaxis": {
         "anchor": "y",
         "domain": [
          0,
          1
         ],
         "title": {
          "text": "Mean value"
         },
         "type": "log"
        },
        "yaxis": {
         "anchor": "x",
         "domain": [
          0,
          1
         ],
         "tickmode": "array",
         "ticktext": [
          "Tax filer gender",
          "First dependent age",
          "Second dependent age",
          "Third dependent age",
          "Earnings split",
          "Tax filer age band",
          "Adjusted gross income",
          "Number of children",
          "Salaries and wages",
          "Total pensions and annuities"
         ],
         "tickvals": [
          "gender_primary_filer",
          "age_dependent_1",
          "age_dependent_2",
          "age_dependent_3",
          "earnings_split_joint_returns",
          "age_range_primary_filer",
          "adjusted_gross_income",
          "number_children_child_tax_credit",
          "salaries_and_wages",
          "total_pensions_annuities_received"
         ],
         "title": {
          "text": "Demographic variable"
         }
        }
       }
      }
     },
     "metadata": {},
     "output_type": "display_data"
    }
   ],
   "source": [
    "features = {\n",
    "    \"Total\": lambda column: column.sum(),\n",
    "    \"Mean\": lambda column: column.mean(),\n",
    "    \"Standard deviation\": lambda column: column.std(),\n",
    "    \"Q1\": lambda column: column.quantile(0.25),\n",
    "    \"Median\": lambda column: column.median(),\n",
    "    \"Q3\": lambda column: column.quantile(0.75),\n",
    "}\n",
    "\n",
    "comparison_results = pd.DataFrame()\n",
    "# Columns are [Feature, Source(Training, Imputed, Difference), Value]\n",
    "feature_values = []\n",
    "source_values = []\n",
    "value_values = []\n",
    "variable_values = []\n",
    "\n",
    "for feature in features:\n",
    "    for variable in FINANCIAL_VARIABLES + DEMOGRAPHIC_VARIABLES:\n",
    "        feature_values += [feature]\n",
    "        variable_values += [variable]\n",
    "        source_values += [\"Training\"]\n",
    "        value_values += [\n",
    "            features[feature](weighted_puf_with_demographics[variable])\n",
    "        ]\n",
    "\n",
    "        feature_values += [feature]\n",
    "        variable_values += [variable]\n",
    "        source_values += [\"Imputed\"]\n",
    "        value_values += [\n",
    "            features[feature](weighted_puf_with_imputed_demographics[variable])\n",
    "        ]\n",
    "\n",
    "comparison_results[\"Feature\"] = feature_values\n",
    "comparison_results[\"Source\"] = source_values\n",
    "comparison_results[\"Value\"] = value_values\n",
    "comparison_results[\"Variable\"] = variable_values\n",
    "\n",
    "comparison_results = comparison_results[comparison_results.Feature == \"Mean\"]\n",
    "\n",
    "labels = {\n",
    "    \"gender_primary_filer\": \"Tax filer gender\",\n",
    "    \"age_dependent_1\": \"First dependent age\",\n",
    "    \"age_dependent_2\": \"Second dependent age\",\n",
    "    \"age_dependent_3\": \"Third dependent age\",\n",
    "    \"earnings_split_joint_returns\": \"Earnings split\",\n",
    "    \"age_range_primary_filer\": \"Tax filer age band\",\n",
    "    \"adjusted_gross_income\": \"Adjusted gross income\",\n",
    "    \"number_children_child_tax_credit\": \"Number of children\",\n",
    "    \"salaries_and_wages\": \"Salaries and wages\",\n",
    "    \"total_pensions_annuities_received\": \"Total pensions and annuities\",\n",
    "}\n",
    "\n",
    "comparison_results = comparison_results.sort_values(\"Value\")\n",
    "\n",
    "comparison_results = comparison_results[\n",
    "    comparison_results.Variable.isin(labels.keys())\n",
    "]\n",
    "\n",
    "fig = px.bar(\n",
    "    comparison_results,\n",
    "    x=\"Value\",\n",
    "    y=\"Variable\",\n",
    "    color=\"Source\",\n",
    "    barmode=\"group\",\n",
    "    title=\"PUF characteristics with and without recorded demographics\",\n",
    "    orientation=\"h\",\n",
    "    color_discrete_map={\n",
    "        \"Training\": GRAY,\n",
    "        \"Imputed\": BLUE,\n",
    "    },\n",
    "    text=comparison_results.Value.apply(lambda x: f\"{x:,.1f}\"),\n",
    "    log_x=True,\n",
    ").update_layout(\n",
    "    xaxis_title=\"Mean value\",\n",
    "    yaxis_title=\"Demographic variable\",\n",
    "    legend_title=\"Subset\",\n",
    "    yaxis=dict(\n",
    "        tickmode=\"array\",\n",
    "        tickvals=list(labels.keys()),\n",
    "        ticktext=list(labels.values()),\n",
    "    ),\n",
    ")\n",
    "format_fig(fig).update_layout(\n",
    "    width=800,\n",
    "    height=600,\n",
    ")"
   ]
  },
  {
   "cell_type": "markdown",
   "metadata": {},
   "source": [
    "## Step 2: Creating a PUF demographics data-styled CPS"
   ]
  },
  {
   "cell_type": "code",
   "execution_count": 3,
   "metadata": {},
   "outputs": [],
   "source": [
    "from fiscalsim_us import Microsimulation\n",
    "\n",
    "sim = Microsimulation(dataset=\"cps_2023\")\n",
    "\n",
    "cps_demographics = pd.DataFrame(index=sim.calculate(\"tax_unit_id\").values)\n",
    "\n",
    "df = sim.calculate_dataframe([\"age\", \"tax_unit_id\", \"is_tax_unit_dependent\"])\n",
    "df = df[df.is_tax_unit_dependent]\n",
    "dependent_ids = df.tax_unit_id.values\n",
    "df_sorted = df.sort_values([\"tax_unit_id\", \"age\"])\n",
    "df_sorted[\"rank\"] = df_sorted.groupby(\"tax_unit_id\")[\"age\"].rank()\n",
    "\n",
    "df_sorted[\"age_dependent_1\"] = np.where(\n",
    "    df_sorted[\"rank\"] == 1, df_sorted[\"age\"], -1\n",
    ")\n",
    "df_sorted[\"age_dependent_2\"] = np.where(\n",
    "    df_sorted[\"rank\"] == 2, df_sorted[\"age\"], -1\n",
    ")\n",
    "df_sorted[\"age_dependent_3\"] = np.where(\n",
    "    df_sorted[\"rank\"] == 3, df_sorted[\"age\"], -1\n",
    ")\n",
    "\n",
    "df_sorted_maxed = df_sorted.groupby(\"tax_unit_id\").max()\n",
    "\n",
    "cps_demographics[\"age_dependent_1\"] = df_sorted_maxed[\"age_dependent_1\"]\n",
    "cps_demographics[\"age_dependent_2\"] = df_sorted_maxed[\"age_dependent_2\"]\n",
    "cps_demographics[\"age_dependent_3\"] = df_sorted_maxed[\"age_dependent_3\"]\n",
    "\n",
    "cps_demographics = cps_demographics.fillna(-1)\n",
    "\n",
    "# Define the age bins and labels\n",
    "bins = [-np.inf, -1, 4, 12, 16, 18, 23, np.inf]\n",
    "labels = [0, 1, 2, 3, 4, 5, 6]\n",
    "\n",
    "# Create AGEDP1, AGEDP2, AGEDP3 based on the categories\n",
    "for col in [\"age_dependent_1\", \"age_dependent_2\", \"age_dependent_3\"]:\n",
    "    cps_demographics[col] = pd.cut(\n",
    "        cps_demographics[col], bins=bins, labels=labels, right=True\n",
    "    )\n",
    "\n",
    "cps_demographics.reset_index(inplace=True)\n",
    "cps_demographics = cps_demographics[\n",
    "    [\"age_dependent_1\", \"age_dependent_2\", \"age_dependent_3\"]\n",
    "]\n",
    "\n",
    "cps_demographics[\"age_range_primary_filer\"] = sim.calculate(\"age_head\").values\n",
    "\n",
    "bins_head = [-np.inf, -1, 25, 34, 44, 54, 64, np.inf]\n",
    "labels_head = [0, 1, 2, 3, 4, 5, 6]\n",
    "\n",
    "cps_demographics[\"age_range_primary_filer\"] = pd.cut(\n",
    "    cps_demographics[\"age_range_primary_filer\"],\n",
    "    bins=bins_head,\n",
    "    labels=labels_head,\n",
    "    right=True,\n",
    ")\n",
    "\n",
    "is_male = sim.calculate(\"is_male\")\n",
    "is_head = sim.calculate(\"is_tax_unit_head\")\n",
    "male_head = sim.map_result(is_male * is_head, \"person\", \"tax_unit\")\n",
    "tax_unit_filer_gender = np.where(male_head, 1, 2)\n",
    "\n",
    "cps_demographics[\"gender_primary_filer\"] = tax_unit_filer_gender\n",
    "\n",
    "filer_earned = sim.calculate(\"filer_earned\")\n",
    "spouse_earned = sim.calculate(\"spouse_earned\")\n",
    "filing_status = sim.calculate(\"filing_status\")\n",
    "\n",
    "\n",
    "def determine_earning_split_value(\n",
    "    filer: float, spouse: float, filing_status: str\n",
    ") -> int:\n",
    "    if filing_status != \"JOINT\":\n",
    "        return 0\n",
    "    if filer + spouse <= 0:\n",
    "        return 1\n",
    "    ratio_filer = filer / (filer + spouse)\n",
    "    if ratio_filer >= 0.75:\n",
    "        return 1\n",
    "    elif ratio_filer >= 0.25:\n",
    "        return 2\n",
    "    else:\n",
    "        return 3\n",
    "\n",
    "\n",
    "cps_demographics[\"earnings_split_joint_returns\"] = np.vectorize(\n",
    "    determine_earning_split_value\n",
    ")(filer_earned, spouse_earned, filing_status)\n",
    "\n",
    "cps_demographics.to_csv(\n",
    "    \"puf_demographics_style_cps.csv.gz\", index=False, compression=\"gzip\"\n",
    ")"
   ]
  },
  {
   "cell_type": "markdown",
   "metadata": {},
   "source": [
    "The chart below shows how the CPS and PUF compare on the PUF demographic characteristics."
   ]
  },
  {
   "cell_type": "code",
   "execution_count": 4,
   "metadata": {},
   "outputs": [
    {
     "data": {
      "application/vnd.plotly.v1+json": {
       "config": {
        "plotlyServerURL": "https://plot.ly"
       },
       "data": [
        {
         "alignmentgroup": "True",
         "hovertemplate": "Source=CPS<br>Value=%{x}<br>Variable=%{y}<br>text=%{text}<extra></extra>",
         "legendgroup": "CPS",
         "marker": {
          "color": "#BDBDBD",
          "pattern": {
           "shape": ""
          }
         },
         "name": "CPS",
         "offsetgroup": "CPS",
         "orientation": "h",
         "showlegend": true,
         "text": [
          "0.5",
          "0.3",
          "0.1",
          "3.9",
          "0.5",
          "1.5"
         ],
         "textposition": "auto",
         "type": "bar",
         "x": [
          0.48627714165216257,
          0.2959161423305803,
          0.11740072816563998,
          3.8704507004108084,
          0.5421729484882434,
          1.4561017897794608
         ],
         "xaxis": "x",
         "y": [
          "age_dependent_1",
          "age_dependent_2",
          "age_dependent_3",
          "age_range_primary_filer",
          "earnings_split_joint_returns",
          "gender_primary_filer"
         ],
         "yaxis": "y"
        },
        {
         "alignmentgroup": "True",
         "hovertemplate": "Source=PUF<br>Value=%{x}<br>Variable=%{y}<br>text=%{text}<extra></extra>",
         "legendgroup": "PUF",
         "marker": {
          "color": "#2C6496",
          "pattern": {
           "shape": ""
          }
         },
         "name": "PUF",
         "offsetgroup": "PUF",
         "orientation": "h",
         "showlegend": true,
         "text": [
          "0.8",
          "0.4",
          "0.2",
          "3.5",
          "0.5",
          "1.4"
         ],
         "textposition": "auto",
         "type": "bar",
         "x": [
          0.8069461688323144,
          0.4490088093525827,
          0.15981299148415776,
          3.475235976560095,
          0.5353967570098167,
          1.378733067813695
         ],
         "xaxis": "x",
         "y": [
          "age_dependent_1",
          "age_dependent_2",
          "age_dependent_3",
          "age_range_primary_filer",
          "earnings_split_joint_returns",
          "gender_primary_filer"
         ],
         "yaxis": "y"
        }
       ],
       "layout": {
        "barmode": "group",
        "font": {
         "color": "black",
         "family": "Roboto Serif"
        },
        "height": 600,
        "images": [
         {
          "sizex": 0.2,
          "sizey": 0.2,
          "source": "https://raw.githubusercontent.com/PolicyEngine/policyengine-app/master/src/images/logos/policyengine/blue.png",
          "x": 1,
          "xanchor": "right",
          "xref": "paper",
          "y": -0.15,
          "yanchor": "bottom",
          "yref": "paper"
         }
        ],
        "legend": {
         "title": {
          "text": "Dataset"
         },
         "tracegroupgap": 0
        },
        "modebar": {
         "bgcolor": "rgba(0,0,0,0)",
         "color": "rgba(0,0,0,0)"
        },
        "template": {
         "data": {
          "bar": [
           {
            "error_x": {
             "color": "#2a3f5f"
            },
            "error_y": {
             "color": "#2a3f5f"
            },
            "marker": {
             "line": {
              "color": "white",
              "width": 0.5
             },
             "pattern": {
              "fillmode": "overlay",
              "size": 10,
              "solidity": 0.2
             }
            },
            "type": "bar"
           }
          ],
          "barpolar": [
           {
            "marker": {
             "line": {
              "color": "white",
              "width": 0.5
             },
             "pattern": {
              "fillmode": "overlay",
              "size": 10,
              "solidity": 0.2
             }
            },
            "type": "barpolar"
           }
          ],
          "carpet": [
           {
            "aaxis": {
             "endlinecolor": "#2a3f5f",
             "gridcolor": "#C8D4E3",
             "linecolor": "#C8D4E3",
             "minorgridcolor": "#C8D4E3",
             "startlinecolor": "#2a3f5f"
            },
            "baxis": {
             "endlinecolor": "#2a3f5f",
             "gridcolor": "#C8D4E3",
             "linecolor": "#C8D4E3",
             "minorgridcolor": "#C8D4E3",
             "startlinecolor": "#2a3f5f"
            },
            "type": "carpet"
           }
          ],
          "choropleth": [
           {
            "colorbar": {
             "outlinewidth": 0,
             "ticks": ""
            },
            "type": "choropleth"
           }
          ],
          "contour": [
           {
            "colorbar": {
             "outlinewidth": 0,
             "ticks": ""
            },
            "colorscale": [
             [
              0,
              "#0d0887"
             ],
             [
              0.1111111111111111,
              "#46039f"
             ],
             [
              0.2222222222222222,
              "#7201a8"
             ],
             [
              0.3333333333333333,
              "#9c179e"
             ],
             [
              0.4444444444444444,
              "#bd3786"
             ],
             [
              0.5555555555555556,
              "#d8576b"
             ],
             [
              0.6666666666666666,
              "#ed7953"
             ],
             [
              0.7777777777777778,
              "#fb9f3a"
             ],
             [
              0.8888888888888888,
              "#fdca26"
             ],
             [
              1,
              "#f0f921"
             ]
            ],
            "type": "contour"
           }
          ],
          "contourcarpet": [
           {
            "colorbar": {
             "outlinewidth": 0,
             "ticks": ""
            },
            "type": "contourcarpet"
           }
          ],
          "heatmap": [
           {
            "colorbar": {
             "outlinewidth": 0,
             "ticks": ""
            },
            "colorscale": [
             [
              0,
              "#0d0887"
             ],
             [
              0.1111111111111111,
              "#46039f"
             ],
             [
              0.2222222222222222,
              "#7201a8"
             ],
             [
              0.3333333333333333,
              "#9c179e"
             ],
             [
              0.4444444444444444,
              "#bd3786"
             ],
             [
              0.5555555555555556,
              "#d8576b"
             ],
             [
              0.6666666666666666,
              "#ed7953"
             ],
             [
              0.7777777777777778,
              "#fb9f3a"
             ],
             [
              0.8888888888888888,
              "#fdca26"
             ],
             [
              1,
              "#f0f921"
             ]
            ],
            "type": "heatmap"
           }
          ],
          "heatmapgl": [
           {
            "colorbar": {
             "outlinewidth": 0,
             "ticks": ""
            },
            "colorscale": [
             [
              0,
              "#0d0887"
             ],
             [
              0.1111111111111111,
              "#46039f"
             ],
             [
              0.2222222222222222,
              "#7201a8"
             ],
             [
              0.3333333333333333,
              "#9c179e"
             ],
             [
              0.4444444444444444,
              "#bd3786"
             ],
             [
              0.5555555555555556,
              "#d8576b"
             ],
             [
              0.6666666666666666,
              "#ed7953"
             ],
             [
              0.7777777777777778,
              "#fb9f3a"
             ],
             [
              0.8888888888888888,
              "#fdca26"
             ],
             [
              1,
              "#f0f921"
             ]
            ],
            "type": "heatmapgl"
           }
          ],
          "histogram": [
           {
            "marker": {
             "pattern": {
              "fillmode": "overlay",
              "size": 10,
              "solidity": 0.2
             }
            },
            "type": "histogram"
           }
          ],
          "histogram2d": [
           {
            "colorbar": {
             "outlinewidth": 0,
             "ticks": ""
            },
            "colorscale": [
             [
              0,
              "#0d0887"
             ],
             [
              0.1111111111111111,
              "#46039f"
             ],
             [
              0.2222222222222222,
              "#7201a8"
             ],
             [
              0.3333333333333333,
              "#9c179e"
             ],
             [
              0.4444444444444444,
              "#bd3786"
             ],
             [
              0.5555555555555556,
              "#d8576b"
             ],
             [
              0.6666666666666666,
              "#ed7953"
             ],
             [
              0.7777777777777778,
              "#fb9f3a"
             ],
             [
              0.8888888888888888,
              "#fdca26"
             ],
             [
              1,
              "#f0f921"
             ]
            ],
            "type": "histogram2d"
           }
          ],
          "histogram2dcontour": [
           {
            "colorbar": {
             "outlinewidth": 0,
             "ticks": ""
            },
            "colorscale": [
             [
              0,
              "#0d0887"
             ],
             [
              0.1111111111111111,
              "#46039f"
             ],
             [
              0.2222222222222222,
              "#7201a8"
             ],
             [
              0.3333333333333333,
              "#9c179e"
             ],
             [
              0.4444444444444444,
              "#bd3786"
             ],
             [
              0.5555555555555556,
              "#d8576b"
             ],
             [
              0.6666666666666666,
              "#ed7953"
             ],
             [
              0.7777777777777778,
              "#fb9f3a"
             ],
             [
              0.8888888888888888,
              "#fdca26"
             ],
             [
              1,
              "#f0f921"
             ]
            ],
            "type": "histogram2dcontour"
           }
          ],
          "mesh3d": [
           {
            "colorbar": {
             "outlinewidth": 0,
             "ticks": ""
            },
            "type": "mesh3d"
           }
          ],
          "parcoords": [
           {
            "line": {
             "colorbar": {
              "outlinewidth": 0,
              "ticks": ""
             }
            },
            "type": "parcoords"
           }
          ],
          "pie": [
           {
            "automargin": true,
            "type": "pie"
           }
          ],
          "scatter": [
           {
            "fillpattern": {
             "fillmode": "overlay",
             "size": 10,
             "solidity": 0.2
            },
            "type": "scatter"
           }
          ],
          "scatter3d": [
           {
            "line": {
             "colorbar": {
              "outlinewidth": 0,
              "ticks": ""
             }
            },
            "marker": {
             "colorbar": {
              "outlinewidth": 0,
              "ticks": ""
             }
            },
            "type": "scatter3d"
           }
          ],
          "scattercarpet": [
           {
            "marker": {
             "colorbar": {
              "outlinewidth": 0,
              "ticks": ""
             }
            },
            "type": "scattercarpet"
           }
          ],
          "scattergeo": [
           {
            "marker": {
             "colorbar": {
              "outlinewidth": 0,
              "ticks": ""
             }
            },
            "type": "scattergeo"
           }
          ],
          "scattergl": [
           {
            "marker": {
             "colorbar": {
              "outlinewidth": 0,
              "ticks": ""
             }
            },
            "type": "scattergl"
           }
          ],
          "scattermapbox": [
           {
            "marker": {
             "colorbar": {
              "outlinewidth": 0,
              "ticks": ""
             }
            },
            "type": "scattermapbox"
           }
          ],
          "scatterpolar": [
           {
            "marker": {
             "colorbar": {
              "outlinewidth": 0,
              "ticks": ""
             }
            },
            "type": "scatterpolar"
           }
          ],
          "scatterpolargl": [
           {
            "marker": {
             "colorbar": {
              "outlinewidth": 0,
              "ticks": ""
             }
            },
            "type": "scatterpolargl"
           }
          ],
          "scatterternary": [
           {
            "marker": {
             "colorbar": {
              "outlinewidth": 0,
              "ticks": ""
             }
            },
            "type": "scatterternary"
           }
          ],
          "surface": [
           {
            "colorbar": {
             "outlinewidth": 0,
             "ticks": ""
            },
            "colorscale": [
             [
              0,
              "#0d0887"
             ],
             [
              0.1111111111111111,
              "#46039f"
             ],
             [
              0.2222222222222222,
              "#7201a8"
             ],
             [
              0.3333333333333333,
              "#9c179e"
             ],
             [
              0.4444444444444444,
              "#bd3786"
             ],
             [
              0.5555555555555556,
              "#d8576b"
             ],
             [
              0.6666666666666666,
              "#ed7953"
             ],
             [
              0.7777777777777778,
              "#fb9f3a"
             ],
             [
              0.8888888888888888,
              "#fdca26"
             ],
             [
              1,
              "#f0f921"
             ]
            ],
            "type": "surface"
           }
          ],
          "table": [
           {
            "cells": {
             "fill": {
              "color": "#EBF0F8"
             },
             "line": {
              "color": "white"
             }
            },
            "header": {
             "fill": {
              "color": "#C8D4E3"
             },
             "line": {
              "color": "white"
             }
            },
            "type": "table"
           }
          ]
         },
         "layout": {
          "annotationdefaults": {
           "arrowcolor": "#2a3f5f",
           "arrowhead": 0,
           "arrowwidth": 1
          },
          "autotypenumbers": "strict",
          "coloraxis": {
           "colorbar": {
            "outlinewidth": 0,
            "ticks": ""
           }
          },
          "colorscale": {
           "diverging": [
            [
             0,
             "#8e0152"
            ],
            [
             0.1,
             "#c51b7d"
            ],
            [
             0.2,
             "#de77ae"
            ],
            [
             0.3,
             "#f1b6da"
            ],
            [
             0.4,
             "#fde0ef"
            ],
            [
             0.5,
             "#f7f7f7"
            ],
            [
             0.6,
             "#e6f5d0"
            ],
            [
             0.7,
             "#b8e186"
            ],
            [
             0.8,
             "#7fbc41"
            ],
            [
             0.9,
             "#4d9221"
            ],
            [
             1,
             "#276419"
            ]
           ],
           "sequential": [
            [
             0,
             "#0d0887"
            ],
            [
             0.1111111111111111,
             "#46039f"
            ],
            [
             0.2222222222222222,
             "#7201a8"
            ],
            [
             0.3333333333333333,
             "#9c179e"
            ],
            [
             0.4444444444444444,
             "#bd3786"
            ],
            [
             0.5555555555555556,
             "#d8576b"
            ],
            [
             0.6666666666666666,
             "#ed7953"
            ],
            [
             0.7777777777777778,
             "#fb9f3a"
            ],
            [
             0.8888888888888888,
             "#fdca26"
            ],
            [
             1,
             "#f0f921"
            ]
           ],
           "sequentialminus": [
            [
             0,
             "#0d0887"
            ],
            [
             0.1111111111111111,
             "#46039f"
            ],
            [
             0.2222222222222222,
             "#7201a8"
            ],
            [
             0.3333333333333333,
             "#9c179e"
            ],
            [
             0.4444444444444444,
             "#bd3786"
            ],
            [
             0.5555555555555556,
             "#d8576b"
            ],
            [
             0.6666666666666666,
             "#ed7953"
            ],
            [
             0.7777777777777778,
             "#fb9f3a"
            ],
            [
             0.8888888888888888,
             "#fdca26"
            ],
            [
             1,
             "#f0f921"
            ]
           ]
          },
          "colorway": [
           "#636efa",
           "#EF553B",
           "#00cc96",
           "#ab63fa",
           "#FFA15A",
           "#19d3f3",
           "#FF6692",
           "#B6E880",
           "#FF97FF",
           "#FECB52"
          ],
          "font": {
           "color": "#2a3f5f"
          },
          "geo": {
           "bgcolor": "white",
           "lakecolor": "white",
           "landcolor": "white",
           "showlakes": true,
           "showland": true,
           "subunitcolor": "#C8D4E3"
          },
          "hoverlabel": {
           "align": "left"
          },
          "hovermode": "closest",
          "mapbox": {
           "style": "light"
          },
          "paper_bgcolor": "white",
          "plot_bgcolor": "white",
          "polar": {
           "angularaxis": {
            "gridcolor": "#EBF0F8",
            "linecolor": "#EBF0F8",
            "ticks": ""
           },
           "bgcolor": "white",
           "radialaxis": {
            "gridcolor": "#EBF0F8",
            "linecolor": "#EBF0F8",
            "ticks": ""
           }
          },
          "scene": {
           "xaxis": {
            "backgroundcolor": "white",
            "gridcolor": "#DFE8F3",
            "gridwidth": 2,
            "linecolor": "#EBF0F8",
            "showbackground": true,
            "ticks": "",
            "zerolinecolor": "#EBF0F8"
           },
           "yaxis": {
            "backgroundcolor": "white",
            "gridcolor": "#DFE8F3",
            "gridwidth": 2,
            "linecolor": "#EBF0F8",
            "showbackground": true,
            "ticks": "",
            "zerolinecolor": "#EBF0F8"
           },
           "zaxis": {
            "backgroundcolor": "white",
            "gridcolor": "#DFE8F3",
            "gridwidth": 2,
            "linecolor": "#EBF0F8",
            "showbackground": true,
            "ticks": "",
            "zerolinecolor": "#EBF0F8"
           }
          },
          "shapedefaults": {
           "line": {
            "color": "#2a3f5f"
           }
          },
          "ternary": {
           "aaxis": {
            "gridcolor": "#DFE8F3",
            "linecolor": "#A2B1C6",
            "ticks": ""
           },
           "baxis": {
            "gridcolor": "#DFE8F3",
            "linecolor": "#A2B1C6",
            "ticks": ""
           },
           "bgcolor": "white",
           "caxis": {
            "gridcolor": "#DFE8F3",
            "linecolor": "#A2B1C6",
            "ticks": ""
           }
          },
          "title": {
           "x": 0.05
          },
          "xaxis": {
           "automargin": true,
           "gridcolor": "#EBF0F8",
           "linecolor": "#EBF0F8",
           "ticks": "",
           "title": {
            "standoff": 15
           },
           "zerolinecolor": "#EBF0F8",
           "zerolinewidth": 2
          },
          "yaxis": {
           "automargin": true,
           "gridcolor": "#EBF0F8",
           "linecolor": "#EBF0F8",
           "ticks": "",
           "title": {
            "standoff": 15
           },
           "zerolinecolor": "#EBF0F8",
           "zerolinewidth": 2
          }
         }
        },
        "title": {
         "text": "PUF and CPS demographic characteristics"
        },
        "width": 800,
        "xaxis": {
         "anchor": "y",
         "domain": [
          0,
          1
         ],
         "title": {
          "text": "Mean value"
         }
        },
        "yaxis": {
         "anchor": "x",
         "domain": [
          0,
          1
         ],
         "tickmode": "array",
         "ticktext": [
          "Tax filer gender",
          "First dependent age",
          "Second dependent age",
          "Third dependent age",
          "Earnings split",
          "Tax filer age band",
          "Adjusted gross income",
          "Number of children",
          "Salaries and wages",
          "Total pensions and annuities"
         ],
         "tickvals": [
          "gender_primary_filer",
          "age_dependent_1",
          "age_dependent_2",
          "age_dependent_3",
          "earnings_split_joint_returns",
          "age_range_primary_filer",
          "adjusted_gross_income",
          "number_children_child_tax_credit",
          "salaries_and_wages",
          "total_pensions_annuities_received"
         ],
         "title": {
          "text": "Demographic variable"
         }
        }
       }
      }
     },
     "metadata": {},
     "output_type": "display_data"
    }
   ],
   "source": [
    "cps_demographics_weighted = MicroDataFrame(\n",
    "    cps_demographics, weights=sim.calculate(\"tax_unit_weight\")\n",
    ")\n",
    "\n",
    "cps_means = cps_demographics_weighted.mean()\n",
    "puf_means = puf_combined[DEMOGRAPHIC_VARIABLES].mean()\n",
    "\n",
    "labels = {\n",
    "    \"gender_primary_filer\": \"Tax filer gender\",\n",
    "    \"age_dependent_1\": \"First dependent age\",\n",
    "    \"age_dependent_2\": \"Second dependent age\",\n",
    "    \"age_dependent_3\": \"Third dependent age\",\n",
    "    \"earnings_split_joint_returns\": \"Earnings split\",\n",
    "    \"age_range_primary_filer\": \"Tax filer age band\",\n",
    "    \"adjusted_gross_income\": \"Adjusted gross income\",\n",
    "    \"number_children_child_tax_credit\": \"Number of children\",\n",
    "    \"salaries_and_wages\": \"Salaries and wages\",\n",
    "    \"total_pensions_annuities_received\": \"Total pensions and annuities\",\n",
    "}\n",
    "\n",
    "comparison_results = pd.DataFrame()\n",
    "variables = []\n",
    "sources = []\n",
    "values = []\n",
    "for variable in DEMOGRAPHIC_VARIABLES:\n",
    "    variables += [variable]\n",
    "    sources += [\"CPS\"]\n",
    "    values += [cps_means[variable]]\n",
    "    variables += [variable]\n",
    "    sources += [\"PUF\"]\n",
    "    values += [puf_means[variable]]\n",
    "\n",
    "comparison_results[\"Variable\"] = variables\n",
    "comparison_results[\"Source\"] = sources\n",
    "comparison_results[\"Value\"] = values\n",
    "\n",
    "fig = px.bar(\n",
    "    comparison_results,\n",
    "    x=\"Value\",\n",
    "    y=\"Variable\",\n",
    "    color=\"Source\",\n",
    "    barmode=\"group\",\n",
    "    title=\"PUF and CPS demographic characteristics\",\n",
    "    orientation=\"h\",\n",
    "    color_discrete_map={\n",
    "        \"CPS\": GRAY,\n",
    "        \"PUF\": BLUE,\n",
    "    },\n",
    "    text=comparison_results.Value.apply(lambda x: f\"{x:,.1f}\"),\n",
    "    # log_x=True,\n",
    ").update_layout(\n",
    "    xaxis_title=\"Mean value\",\n",
    "    yaxis_title=\"Demographic variable\",\n",
    "    legend_title=\"Dataset\",\n",
    "    yaxis=dict(\n",
    "        tickmode=\"array\",\n",
    "        tickvals=list(labels.keys()),\n",
    "        ticktext=list(labels.values()),\n",
    "    ),\n",
    ")\n",
    "fig = format_fig(fig)\n",
    "\n",
    "fig"
   ]
  },
  {
   "cell_type": "markdown",
   "metadata": {},
   "source": [
    "Next, imputing PUF financial columns into the CPS."
   ]
  },
  {
   "cell_type": "code",
   "execution_count": 9,
   "metadata": {},
   "outputs": [
    {
     "name": "stderr",
     "output_type": "stream",
     "text": [
      "Training models: 100%|██████████| 14/14 [00:12<00:00,  1.08it/s]\n",
      "Predicting: 14it [00:51,  3.71s/it]\n"
     ]
    }
   ],
   "source": [
    "# Now, we need to train a model to predict financial variables from demographics on the PUF, and apply it to the CPS\n",
    "\n",
    "income_from_demographics = Imputation()\n",
    "\n",
    "FINANCIAL_VARIABLES = [\n",
    "    \"employment_income\",\n",
    "    \"self_employment_income\",\n",
    "    \"partnership_s_corp_income\",\n",
    "    \"farm_income\",\n",
    "    \"farm_rent_income\",\n",
    "    \"short_term_capital_gains\",\n",
    "    \"long_term_capital_gains\",\n",
    "    \"taxable_interest_income\",\n",
    "    \"tax_exempt_interest_income\",\n",
    "    \"rental_income\",\n",
    "    \"qualified_dividend_income\",\n",
    "    \"non_qualified_dividend_income\",\n",
    "    \"taxable_pension_income\",\n",
    "    \"social_security\",\n",
    "]\n",
    "\n",
    "income_from_demographics.train(\n",
    "    puf_combined[DEMOGRAPHIC_VARIABLES],\n",
    "    puf_combined[FINANCIAL_VARIABLES],\n",
    "    verbose=True,\n",
    "    sample_weight=puf_combined.weights,\n",
    ")\n",
    "\n",
    "cps_financial_predictions = income_from_demographics.predict(\n",
    "    cps_demographics[DEMOGRAPHIC_VARIABLES],\n",
    "    verbose=True,\n",
    "    mean_quantile=[0.9] + [0.5] * (len(FINANCIAL_VARIABLES) - 1),\n",
    ")\n",
    "cps_imputed = pd.concat([cps_demographics, cps_financial_predictions], axis=1)\n",
    "cps_imputed = MicroDataFrame(\n",
    "    cps_imputed, weights=sim.calculate(\"tax_unit_weight\").values\n",
    ")"
   ]
  },
  {
   "cell_type": "code",
   "execution_count": 11,
   "metadata": {},
   "outputs": [],
   "source": [
    "from fiscalsim_us import Microsimulation\n",
    "\n",
    "sim = Microsimulation(dataset=\"cps_2023\")\n",
    "person_df = pd.DataFrame(\n",
    "    dict(\n",
    "        person_id=sim.calculate(\"person_id\").values,\n",
    "        tax_unit_id=sim.calculate(\"person_tax_unit_id\").values,\n",
    "    )\n",
    ")\n",
    "\n",
    "person_is_tax_filer_head = sim.calculate(\"is_tax_unit_head\").values\n",
    "\n",
    "for variable in FINANCIAL_VARIABLES:\n",
    "    cps_original_value = sim.calculate(variable).values\n",
    "    cps_tax_unit_original_total = sim.map_result(\n",
    "        sim.map_result(cps_original_value, \"person\", \"tax_unit\"),\n",
    "        \"tax_unit\",\n",
    "        \"person\",\n",
    "    )\n",
    "    cps_share_of_tax_unit_original_total = (\n",
    "        cps_original_value / cps_tax_unit_original_total\n",
    "    )\n",
    "    cps_share_of_tax_unit_original_total = np.where(\n",
    "        np.isnan(cps_share_of_tax_unit_original_total),\n",
    "        person_is_tax_filer_head,\n",
    "        cps_share_of_tax_unit_original_total,\n",
    "    )\n",
    "    mapped_down_imputed_values = sim.map_result(\n",
    "        cps_imputed[variable].values, \"tax_unit\", \"person\"\n",
    "    )\n",
    "    person_df[variable] = (\n",
    "        cps_share_of_tax_unit_original_total * mapped_down_imputed_values\n",
    "    )\n",
    "\n",
    "person_df = person_df.fillna(0)\n",
    "person_df.to_csv(\n",
    "    \"puf_imputed_cps_person.csv.gz\", index=False, compression=\"gzip\"\n",
    ")"
   ]
  }
 ],
 "metadata": {
  "kernelspec": {
   "display_name": "base",
   "language": "python",
   "name": "python3"
  },
  "language_info": {
   "codemirror_mode": {
    "name": "ipython",
    "version": 3
   },
   "file_extension": ".py",
   "mimetype": "text/x-python",
   "name": "python",
   "nbconvert_exporter": "python",
   "pygments_lexer": "ipython3",
   "version": "3.9.12"
  },
  "orig_nbformat": 4
 },
 "nbformat": 4,
 "nbformat_minor": 2
}
